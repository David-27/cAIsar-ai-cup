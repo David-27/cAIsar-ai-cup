{
 "cells": [
  {
   "cell_type": "code",
   "execution_count": 8,
   "id": "7f38c175",
   "metadata": {
    "ExecuteTime": {
     "end_time": "2022-05-13T14:05:19.498259Z",
     "start_time": "2022-05-13T14:05:19.444369Z"
    },
    "init_cell": true
   },
   "outputs": [],
   "source": [
    "import numpy as np\n",
    "import pickle\n",
    "from data_generator.batch_generator import BatchGenerator\n",
    "import data_generator.batch_generator_functions as bgf\n",
    "from utils.util_functions import convert_float_to_binary_mask\n",
    "from utils.util_functions import convert_mask_to_cup_format\n",
    "from model.metric_functions.cup_f1_score import cup_f1_score\n",
    "import pandas as pd\n",
    "\n",
    "BUG_DATA = \"data\""
   ]
  },
  {
   "cell_type": "code",
   "execution_count": 9,
   "id": "7f497f72",
   "metadata": {
    "ExecuteTime": {
     "end_time": "2022-05-13T14:05:20.251373Z",
     "start_time": "2022-05-13T14:05:20.236119Z"
    },
    "init_cell": true
   },
   "outputs": [],
   "source": [
    "BATCH_SIZE = 32\n",
    "LENGTH = 1024\n",
    "SAMPLE_OFFSET = 0\n",
    "SAMPLE_FREQ = 512\n",
    "CENTER = 512\n",
    "CENTER_OFFSET = 256\n",
    "IGNORE = ['zeros_ts']"
   ]
  },
  {
   "cell_type": "code",
   "execution_count": 10,
   "id": "3f27eba3",
   "metadata": {
    "ExecuteTime": {
     "end_time": "2022-05-13T14:05:21.247815Z",
     "start_time": "2022-05-13T14:05:21.200783Z"
    },
    "init_cell": true
   },
   "outputs": [],
   "source": [
    "with open(BUG_DATA + \"//X_test.pickle\", \"rb\") as file:\n",
    "    X_test = pickle.load(file)\n",
    "\n",
    "with open(BUG_DATA + \"//y_test.pickle\", \"rb\") as file:\n",
    "    y_test = pickle.load(file)\n",
    "\n",
    "with open(BUG_DATA + \"//y_pred.pickle\", \"rb\") as file:\n",
    "    y_pred = pickle.load(file)\n",
    "\n",
    "with open(BUG_DATA + \"//batch_table.pickle\", \"rb\") as file:\n",
    "    batch_table = pickle.load(file)\n",
    "\n",
    "with open(BUG_DATA + \"//ignore_xsv.pickle\", \"rb\") as file:\n",
    "    ignore_xsv = pickle.load(file)"
   ]
  },
  {
   "cell_type": "code",
   "execution_count": 11,
   "id": "a2b88300",
   "metadata": {
    "ExecuteTime": {
     "end_time": "2022-05-13T14:05:27.501132Z",
     "start_time": "2022-05-13T14:05:27.279350Z"
    }
   },
   "outputs": [
    {
     "data": {
      "text/plain": [
       "<AxesSubplot:>"
      ]
     },
     "execution_count": 11,
     "metadata": {},
     "output_type": "execute_result"
    },
    {
     "data": {
      "image/png": "[encoded data removed]",
      "text/plain": [
       "<Figure size 432x288 with 1 Axes>"
      ]
     },
     "metadata": {
      "needs_background": "light"
     },
     "output_type": "display_data"
    }
   ],
   "source": [
    "\"\"\"\n",
    "batches_true = np.array([\n",
    "    [[0, 0, 0, 1, 1, 1, 0, 0], [1, 1, 0, 0, 1, 1, 0, 0]],\n",
    "    [[1, 1, 0, 0, 1, 1, 0, 0], [0, 1, 1, 0, 1, 1, 0, 1]],\n",
    "    [[1, 1, 0, 1, 1, 0, 0, 0], [0, 0, 0, 0, 0, 0, 0, 0]]\n",
    "])\n",
    "\"\"\"\n",
    "ts_true = bgf.convert_batches_to_ts(data=y_test, batch_table=batch_table, center=CENTER, center_offset=CENTER_OFFSET, ignore=[ignore_xsv])\n",
    "ts_true_df = pd.DataFrame(ts_true)\n",
    "ts_true_df.plot()"
   ]
  },
  {
   "cell_type": "code",
   "execution_count": 4,
   "id": "6cb5fb36",
   "metadata": {
    "ExecuteTime": {
     "end_time": "2022-05-13T10:54:01.022193Z",
     "start_time": "2022-05-13T10:54:00.085195Z"
    },
    "init_cell": true
   },
   "outputs": [
    {
     "data": {
      "text/plain": [
       "<AxesSubplot:>"
      ]
     },
     "execution_count": 4,
     "metadata": {},
     "output_type": "execute_result"
    },
    {
     "data": {
      "image/png": "[encoded data removed]",
      "text/plain": [
       "<Figure size 432x288 with 1 Axes>"
      ]
     },
     "metadata": {
      "needs_background": "light"
     },
     "output_type": "display_data"
    }
   ],
   "source": [
    "ts_pred = bgf.convert_batches_to_ts(data=y_pred, batch_table=batch_table, center=CENTER, center_offset=CENTER_OFFSET, ignore=IGNORE)\n",
    "ts_pred_df = pd.DataFrame(ts_pred)\n",
    "ts_pred_df.plot()"
   ]
  },
  {
   "cell_type": "code",
   "execution_count": 9,
   "id": "a51dacda",
   "metadata": {
    "ExecuteTime": {
     "end_time": "2022-05-11T19:43:08.353800Z",
     "start_time": "2022-05-11T19:43:08.337739Z"
    }
   },
   "outputs": [
    {
     "data": {
      "text/plain": [
       "array([0., 0.], dtype=float32)"
      ]
     },
     "execution_count": 9,
     "metadata": {},
     "output_type": "execute_result"
    }
   ],
   "source": [
    "bin_arr = convert_float_to_binary_mask(ts_pred[1])\n",
    "bin_arr"
   ]
  },
  {
   "cell_type": "code",
   "execution_count": 10,
   "id": "38b38304",
   "metadata": {
    "ExecuteTime": {
     "end_time": "2022-05-11T19:43:08.948743Z",
     "start_time": "2022-05-11T19:43:08.932151Z"
    }
   },
   "outputs": [
    {
     "data": {
      "text/plain": [
       "[]"
      ]
     },
     "execution_count": 10,
     "metadata": {},
     "output_type": "execute_result"
    }
   ],
   "source": [
    "convert_mask_to_cup_format(bin_arr)"
   ]
  },
  {
   "cell_type": "code",
   "execution_count": 5,
   "id": "7b898718",
   "metadata": {
    "ExecuteTime": {
     "end_time": "2022-05-13T10:54:01.445071Z",
     "start_time": "2022-05-13T10:54:01.025193Z"
    },
    "init_cell": true
   },
   "outputs": [
    {
     "ename": "NameError",
     "evalue": "name 'ts_true' is not defined",
     "output_type": "error",
     "traceback": [
      "\u001b[1;31m---------------------------------------------------------------------------\u001b[0m",
      "\u001b[1;31mNameError\u001b[0m                                 Traceback (most recent call last)",
      "Input \u001b[1;32mIn [5]\u001b[0m, in \u001b[0;36m<cell line: 1>\u001b[1;34m()\u001b[0m\n\u001b[1;32m----> 1\u001b[0m cup_f1_score(y_pred\u001b[38;5;241m=\u001b[39mts_pred, y_true\u001b[38;5;241m=\u001b[39m\u001b[43mts_true\u001b[49m)\n",
      "\u001b[1;31mNameError\u001b[0m: name 'ts_true' is not defined"
     ]
    }
   ],
   "source": [
    "cup_f1_score(y_pred=ts_pred, y_true=ts_true)"
   ]
  },
  {
   "cell_type": "code",
   "execution_count": null,
   "id": "34bd9bf2",
   "metadata": {
    "ExecuteTime": {
     "end_time": "2022-05-11T19:43:12.343733Z",
     "start_time": "2022-05-11T19:43:12.323603Z"
    }
   },
   "outputs": [
    {
     "data": {
      "text/plain": [
       "array([[ 3,  3],\n",
       "       [ 8,  9],\n",
       "       [12, 13]])"
      ]
     },
     "execution_count": 45,
     "metadata": {},
     "output_type": "execute_result"
    }
   ],
   "source": [
    "mat = np.array([[3, 3], [8, 9], [12, 13]])\n",
    "mat"
   ]
  },
  {
   "cell_type": "code",
   "execution_count": null,
   "id": "815c20a3",
   "metadata": {
    "ExecuteTime": {
     "end_time": "2022-05-11T19:43:13.100860Z",
     "start_time": "2022-05-11T19:43:13.085439Z"
    }
   },
   "outputs": [
    {
     "data": {
      "text/plain": [
       "array([[ 8,  9],\n",
       "       [12, 13]])"
      ]
     },
     "execution_count": 46,
     "metadata": {},
     "output_type": "execute_result"
    }
   ],
   "source": [
    "mat[~(mat[:, 0] == mat[:, 1])]"
   ]
  }
 ],
 "metadata": {
  "celltoolbar": "Initialization Cell",
  "interpreter": {
   "hash": "94d09595c58a6127ea11ac74a8c8d2764be03d3da64e7fc453f56d54b16a5b17"
  },
  "kernelspec": {
   "display_name": "Python 3 (ipykernel)",
   "language": "python",
   "name": "python3"
  },
  "language_info": {
   "codemirror_mode": {
    "name": "ipython",
    "version": 3
   },
   "file_extension": ".py",
   "mimetype": "text/x-python",
   "name": "python",
   "nbconvert_exporter": "python",
   "pygments_lexer": "ipython3",
   "version": "3.9.0"
  }
 },
 "nbformat": 4,
 "nbformat_minor": 5
}
