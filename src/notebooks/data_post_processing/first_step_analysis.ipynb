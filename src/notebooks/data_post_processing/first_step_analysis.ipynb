{
 "cells": [
  {
   "cell_type": "markdown",
   "metadata": {},
   "source": [
    "## Findings\n",
    "\n",
    "- The protocol of the data creation states, that the dataset begins mit 6s starting. As the sensors register 100 hearts, the labeled steps should start no earlier than index 600\n",
    "- Analyzing the histogram, there is a small portion of runs that start extremely early, many runs start before index 600\n",
    "- Cutting out the first 600s is therefore not a good idea."
   ]
  },
  {
   "cell_type": "code",
   "execution_count": 27,
   "metadata": {},
   "outputs": [],
   "source": [
    "from cup_scripts.utils import load_train, load_test\n",
    "X_train, Y_train, metadata_train = load_train()"
   ]
  },
  {
   "cell_type": "code",
   "execution_count": 28,
   "metadata": {},
   "outputs": [],
   "source": [
    "first_step_index = []\n",
    "\n",
    "for steps in Y_train:\n",
    "    (start, end) = steps[0]\n",
    "    first_step_index.append(start)"
   ]
  },
  {
   "cell_type": "code",
   "execution_count": 29,
   "metadata": {},
   "outputs": [
    {
     "data": {
      "image/png": "[encoded data removed]",
      "text/plain": [
       "<Figure size 432x288 with 1 Axes>"
      ]
     },
     "metadata": {
      "needs_background": "light"
     },
     "output_type": "display_data"
    }
   ],
   "source": [
    "import matplotlib.pyplot as plt\n",
    "import numpy as np\n",
    "from matplotlib import colors\n",
    "from matplotlib.ticker import PercentFormatter\n",
    "\n",
    "N_points = 100000\n",
    "n_bins = 100\n",
    "\n",
    "\n",
    "# We can set the number of bins with the *bins* keyword argument.\n",
    "plt.hist(first_step_index, bins=n_bins)\n",
    "\n",
    "plt.show()"
   ]
  }
 ],
 "metadata": {
  "kernelspec": {
   "display_name": "Python 3.9.5 ('src-d8jxIkDS')",
   "language": "python",
   "name": "python3"
  },
  "language_info": {
   "codemirror_mode": {
    "name": "ipython",
    "version": 3
   },
   "file_extension": ".py",
   "mimetype": "text/x-python",
   "name": "python",
   "nbconvert_exporter": "python",
   "pygments_lexer": "ipython3",
   "version": "3.9.5"
  },
  "orig_nbformat": 4,
  "vscode": {
   "interpreter": {
    "hash": "94d09595c58a6127ea11ac74a8c8d2764be03d3da64e7fc453f56d54b16a5b17"
   }
  }
 },
 "nbformat": 4,
 "nbformat_minor": 2
}
