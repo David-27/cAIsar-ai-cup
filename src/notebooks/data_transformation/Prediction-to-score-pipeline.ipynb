{
 "cells": [
  {
   "cell_type": "code",
   "execution_count": 1,
   "id": "7f38c175",
   "metadata": {
    "ExecuteTime": {
     "end_time": "2022-05-13T18:21:32.376014Z",
     "start_time": "2022-05-13T18:21:29.391881Z"
    },
    "init_cell": true
   },
   "outputs": [],
   "source": [
    "import numpy as np\n",
    "from data_generator.batch_generator import BatchGenerator\n",
    "import data_generator.batch_generator_functions as bgf\n",
    "from utils.util_functions import convert_float_to_binary_mask\n",
    "from utils.util_functions import convert_mask_to_cup_format\n",
    "from model.metric_functions.cup_f1_score import cup_f1_score\n",
    "\n"
   ]
  },
  {
   "cell_type": "code",
   "execution_count": 2,
   "id": "7f497f72",
   "metadata": {
    "ExecuteTime": {
     "end_time": "2022-05-13T18:21:32.391657Z",
     "start_time": "2022-05-13T18:21:32.376014Z"
    },
    "init_cell": true
   },
   "outputs": [],
   "source": [
    "BATCH_SIZE = 2\n",
    "LENGTH = 8\n",
    "SAMPLE_OFFSET = 0\n",
    "SAMPLE_FREQ = 4\n",
    "CENTER = 4\n",
    "CENTER_OFFSET = 2\n",
    "IGNORE = ['zeros_ts']"
   ]
  },
  {
   "cell_type": "code",
   "execution_count": 3,
   "id": "3f27eba3",
   "metadata": {
    "ExecuteTime": {
     "end_time": "2022-05-13T18:21:32.422895Z",
     "start_time": "2022-05-13T18:21:32.391657Z"
    },
    "init_cell": true
   },
   "outputs": [],
   "source": [
    "# sample_ts_1\n",
    "sample_ts_1 = np.array([0, 0, 0, 1, 1, 1, 0, 0, 1, 1, 0, 0, 1, 1])\n",
    "# leads to 3 samples\n",
    "y_1 = [[0, 0, 0, 1, 1, 1, 0, 0], [1, 1, 0, 0, 1, 1, 0, 0], [1, 1, 0, 0, 1, 1, 0, 0]]\n",
    "\n",
    "# sample_ts_2\n",
    "sample_ts_2 = np.array([0, 1, 1, 0, 1, 1, 0, 1, 1, 0, 0, 0])\n",
    "# leads to 2 samples\n",
    "y_2 = [[0, 1, 1, 0, 1, 1, 0, 1], [1, 1, 0, 1, 1, 0, 0, 0]]"
   ]
  },
  {
   "cell_type": "code",
   "execution_count": 4,
   "id": "7450bbad",
   "metadata": {
    "ExecuteTime": {
     "end_time": "2022-05-13T18:21:32.445108Z",
     "start_time": "2022-05-13T18:21:32.422895Z"
    },
    "init_cell": true
   },
   "outputs": [
    {
     "data": {
      "text/plain": [
       "(3, 2, 8)"
      ]
     },
     "execution_count": 4,
     "metadata": {},
     "output_type": "execute_result"
    }
   ],
   "source": [
    "# batches\n",
    "batches_true = np.array([\n",
    "    [[0, 0, 0, 1, 1, 1, 0, 0], [1, 1, 0, 0, 1, 1, 0, 0]],\n",
    "    [[1, 1, 0, 0, 1, 1, 0, 0], [0, 1, 1, 0, 1, 1, 0, 1]],\n",
    "    [[1, 1, 0, 1, 1, 0, 0, 0], [0, 0, 0, 0, 0, 0, 0, 0]]\n",
    "])\n",
    "\n",
    "batches_pred = np.array([\n",
    "    [[0.2, 0.3, 0.4, 0.7, 0.3, 0.3, 0.2, 0.3], [0.6, 0.8, 0.2, 0.2, 0.8, 0.5, 0.2, 0.1]],\n",
    "    [[0.4, 0.8, 0.4, 0.2, 0.5, 0.7, 0.3, 0.2], [0.1, 0.9, 0.7, 0.2, 0.8, 0.8, 0.2, 0.1]],\n",
    "    [[0.8, 0.9, 0.1, 0.8, 0.9, 0.2, 0.1, 0.1], [0.0, 0.1, 0.1, 0.0, 0.1, 0.3, 0.1, 0.0]]\n",
    "])\n",
    "batches_pred.shape"
   ]
  },
  {
   "cell_type": "code",
   "execution_count": 5,
   "id": "9170f434",
   "metadata": {
    "ExecuteTime": {
     "end_time": "2022-05-13T18:21:32.460745Z",
     "start_time": "2022-05-13T18:21:32.445108Z"
    },
    "init_cell": true
   },
   "outputs": [],
   "source": [
    "table = [\n",
    "    [('sample_ts_1', 2, [0, 4])],\n",
    "    [\n",
    "        ('sample_ts_1', 1, [8]),\n",
    "        ('sample_ts_2', 1, [0])\n",
    "    ],\n",
    "    [\n",
    "        ('sample_ts_2', 1, [4]),\n",
    "        ('zeros_ts', 1, [0])\n",
    "    ]\n",
    "]"
   ]
  },
  {
   "cell_type": "code",
   "execution_count": 37,
   "id": "a2b88300",
   "metadata": {
    "ExecuteTime": {
     "end_time": "2022-05-11T19:43:06.722406Z",
     "start_time": "2022-05-11T19:43:06.714372Z"
    }
   },
   "outputs": [
    {
     "data": {
      "text/plain": [
       "[array([0, 0, 0, 1, 1, 1, 0, 0, 1, 1, 0, 0, 1, 1, 0, 0]),\n",
       " array([0, 1, 1, 0, 1, 1, 0, 1, 1, 0, 0, 0]),\n",
       " array([0, 0, 0, 0, 0, 0, 0, 0])]"
      ]
     },
     "execution_count": 37,
     "metadata": {},
     "output_type": "execute_result"
    }
   ],
   "source": [
    "\"\"\"\n",
    "batches_true = np.array([\n",
    "    [[0, 0, 0, 1, 1, 1, 0, 0], [1, 1, 0, 0, 1, 1, 0, 0]],\n",
    "    [[1, 1, 0, 0, 1, 1, 0, 0], [0, 1, 1, 0, 1, 1, 0, 1]],\n",
    "    [[1, 1, 0, 1, 1, 0, 0, 0], [0, 0, 0, 0, 0, 0, 0, 0]]\n",
    "])\n",
    "\"\"\"\n",
    "ts_true = bgf.convert_batches_to_ts(data=batches_true, batch_table=table, center=CENTER, center_offset=CENTER_OFFSET)\n",
    "ts_true"
   ]
  },
  {
   "cell_type": "code",
   "execution_count": 7,
   "id": "1ac0c343",
   "metadata": {
    "ExecuteTime": {
     "end_time": "2022-05-13T18:21:32.924237Z",
     "start_time": "2022-05-13T18:21:32.908679Z"
    },
    "init_cell": true
   },
   "outputs": [
    {
     "data": {
      "text/plain": [
       "[array([0, 0, 0, 1, 1, 1, 0, 0, 1, 1, 0, 0, 1, 1, 0, 0]),\n",
       " array([0, 1, 1, 0, 1, 1, 0, 1, 1, 0, 0, 0])]"
      ]
     },
     "execution_count": 7,
     "metadata": {},
     "output_type": "execute_result"
    }
   ],
   "source": [
    "ts_true = bgf.convert_batches_to_ts(data=batches_true, batch_table=table, center=CENTER, center_offset=CENTER_OFFSET, ignore=IGNORE)\n",
    "ts_true"
   ]
  },
  {
   "cell_type": "code",
   "execution_count": 9,
   "id": "6cb5fb36",
   "metadata": {
    "ExecuteTime": {
     "end_time": "2022-05-13T18:21:32.962093Z",
     "start_time": "2022-05-13T18:21:32.946563Z"
    },
    "init_cell": true
   },
   "outputs": [
    {
     "data": {
      "text/plain": [
       "[array([0.2, 0.3, 0.4, 0.7, 0.3, 0.3, 0.2, 0.2, 0.8, 0.5, 0.4, 0.2, 0.5,\n",
       "        0.7, 0.3, 0.2]),\n",
       " array([0.1, 0.9, 0.7, 0.2, 0.8, 0.8, 0.1, 0.8, 0.9, 0.2, 0.1, 0.1])]"
      ]
     },
     "execution_count": 9,
     "metadata": {},
     "output_type": "execute_result"
    }
   ],
   "source": [
    "ts_pred = bgf.convert_batches_to_ts(data=batches_pred, batch_table=table, center=CENTER, center_offset=CENTER_OFFSET, ignore=IGNORE)\n",
    "ts_pred"
   ]
  },
  {
   "cell_type": "code",
   "execution_count": 42,
   "id": "a51dacda",
   "metadata": {
    "ExecuteTime": {
     "end_time": "2022-05-11T19:43:08.353800Z",
     "start_time": "2022-05-11T19:43:08.337739Z"
    }
   },
   "outputs": [
    {
     "data": {
      "text/plain": [
       "array([0., 1., 1., 0., 1., 1., 0., 1., 1., 0., 0., 0.])"
      ]
     },
     "execution_count": 42,
     "metadata": {},
     "output_type": "execute_result"
    }
   ],
   "source": [
    "bin_arr = convert_float_to_binary_mask(ts_pred[1])\n",
    "bin_arr"
   ]
  },
  {
   "cell_type": "code",
   "execution_count": 43,
   "id": "38b38304",
   "metadata": {
    "ExecuteTime": {
     "end_time": "2022-05-11T19:43:08.948743Z",
     "start_time": "2022-05-11T19:43:08.932151Z"
    }
   },
   "outputs": [
    {
     "data": {
      "text/plain": [
       "[[1, 2], [4, 5], [7, 8]]"
      ]
     },
     "execution_count": 43,
     "metadata": {},
     "output_type": "execute_result"
    }
   ],
   "source": [
    "convert_mask_to_cup_format(bin_arr)"
   ]
  },
  {
   "cell_type": "code",
   "execution_count": 11,
   "id": "7b898718",
   "metadata": {
    "ExecuteTime": {
     "end_time": "2022-05-13T18:21:32.993261Z",
     "start_time": "2022-05-13T18:21:32.977717Z"
    },
    "init_cell": true
   },
   "outputs": [
    {
     "name": "stdout",
     "output_type": "stream",
     "text": [
      "[predictions, ground_truth] : \n",
      "[[[8, 9], [12, 13]], [[1, 2], [4, 5], [7, 8]]],\n",
      " ------------------------ \n",
      "[[[3, 5], [8, 9], [12, 13]], [[1, 2], [4, 5], [7, 8]]]\n"
     ]
    },
    {
     "data": {
      "text/plain": [
       "0.9"
      ]
     },
     "execution_count": 11,
     "metadata": {},
     "output_type": "execute_result"
    }
   ],
   "source": [
    "cup_f1_score(y_pred=ts_pred, y_true=ts_true)"
   ]
  },
  {
   "cell_type": "code",
   "execution_count": 45,
   "id": "34bd9bf2",
   "metadata": {
    "ExecuteTime": {
     "end_time": "2022-05-11T19:43:12.343733Z",
     "start_time": "2022-05-11T19:43:12.323603Z"
    }
   },
   "outputs": [
    {
     "data": {
      "text/plain": [
       "array([[ 3,  3],\n",
       "       [ 8,  9],\n",
       "       [12, 13]])"
      ]
     },
     "execution_count": 45,
     "metadata": {},
     "output_type": "execute_result"
    }
   ],
   "source": [
    "mat = np.array([[3, 3], [8, 9], [12, 13]])\n",
    "mat"
   ]
  },
  {
   "cell_type": "code",
   "execution_count": 46,
   "id": "815c20a3",
   "metadata": {
    "ExecuteTime": {
     "end_time": "2022-05-11T19:43:13.100860Z",
     "start_time": "2022-05-11T19:43:13.085439Z"
    }
   },
   "outputs": [
    {
     "data": {
      "text/plain": [
       "array([[ 8,  9],\n",
       "       [12, 13]])"
      ]
     },
     "execution_count": 46,
     "metadata": {},
     "output_type": "execute_result"
    }
   ],
   "source": [
    "mat[~(mat[:, 0] == mat[:, 1])]"
   ]
  }
 ],
 "metadata": {
  "celltoolbar": "Initialization Cell",
  "interpreter": {
   "hash": "94d09595c58a6127ea11ac74a8c8d2764be03d3da64e7fc453f56d54b16a5b17"
  },
  "kernelspec": {
   "display_name": "Python 3 (ipykernel)",
   "language": "python",
   "name": "python3"
  },
  "language_info": {
   "codemirror_mode": {
    "name": "ipython",
    "version": 3
   },
   "file_extension": ".py",
   "mimetype": "text/x-python",
   "name": "python",
   "nbconvert_exporter": "python",
   "pygments_lexer": "ipython3",
   "version": "3.9.5"
  }
 },
 "nbformat": 4,
 "nbformat_minor": 5
}
