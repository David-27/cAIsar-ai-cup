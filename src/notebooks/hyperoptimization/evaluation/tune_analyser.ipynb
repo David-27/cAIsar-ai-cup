{
 "cells": [
  {
   "cell_type": "markdown",
   "metadata": {},
   "source": [
    "## Findings\n",
    "- doku semi gut\n",
    "- kryptische Fehlermeldungen"
   ]
  },
  {
   "cell_type": "code",
   "execution_count": 20,
   "metadata": {},
   "outputs": [
    {
     "ename": "ValueError",
     "evalue": "The directory `D:\\aws_run_tmp\\` does not contain a Ray Tune experiment checkpoint.",
     "output_type": "error",
     "traceback": [
      "\u001b[1;31m---------------------------------------------------------------------------\u001b[0m",
      "\u001b[1;31mValueError\u001b[0m                                Traceback (most recent call last)",
      "\u001b[1;32mc:\\Informatik\\workspaces\\workspace_python\\AI-Cup\\src\\notebooks\\hyperoptimization_evaluation\\tune_analyser.ipynb Cell 2'\u001b[0m in \u001b[0;36m<cell line: 2>\u001b[1;34m()\u001b[0m\n\u001b[0;32m      <a href='vscode-notebook-cell:/c%3A/Informatik/workspaces/workspace_python/AI-Cup/src/notebooks/hyperoptimization_evaluation/tune_analyser.ipynb#ch0000000?line=0'>1</a>\u001b[0m \u001b[39mfrom\u001b[39;00m \u001b[39mray\u001b[39;00m\u001b[39m.\u001b[39;00m\u001b[39mtune\u001b[39;00m \u001b[39mimport\u001b[39;00m ExperimentAnalysis\n\u001b[1;32m----> <a href='vscode-notebook-cell:/c%3A/Informatik/workspaces/workspace_python/AI-Cup/src/notebooks/hyperoptimization_evaluation/tune_analyser.ipynb#ch0000000?line=1'>2</a>\u001b[0m analysis \u001b[39m=\u001b[39m ExperimentAnalysis(\u001b[39m'\u001b[39;49m\u001b[39mD:\u001b[39;49m\u001b[39m\\\\\u001b[39;49;00m\u001b[39maws_run_tmp\u001b[39;49m\u001b[39m\\\\\u001b[39;49;00m\u001b[39m'\u001b[39;49m)\n",
      "File \u001b[1;32mc:\\Users\\paulr\\.virtualenvs\\src-d8jxIkDS\\lib\\site-packages\\ray\\tune\\analysis\\experiment_analysis.py:75\u001b[0m, in \u001b[0;36mExperimentAnalysis.__init__\u001b[1;34m(self, experiment_checkpoint_path, trials, default_metric, default_mode, sync_config)\u001b[0m\n\u001b[0;32m     66\u001b[0m \u001b[39mdef\u001b[39;00m \u001b[39m__init__\u001b[39m(\u001b[39mself\u001b[39m,\n\u001b[0;32m     67\u001b[0m              experiment_checkpoint_path: \u001b[39mstr\u001b[39m,\n\u001b[0;32m     68\u001b[0m              trials: Optional[List[Trial]] \u001b[39m=\u001b[39m \u001b[39mNone\u001b[39;00m,\n\u001b[0;32m     69\u001b[0m              default_metric: Optional[\u001b[39mstr\u001b[39m] \u001b[39m=\u001b[39m \u001b[39mNone\u001b[39;00m,\n\u001b[0;32m     70\u001b[0m              default_mode: Optional[\u001b[39mstr\u001b[39m] \u001b[39m=\u001b[39m \u001b[39mNone\u001b[39;00m,\n\u001b[0;32m     71\u001b[0m              sync_config: Optional[SyncConfig] \u001b[39m=\u001b[39m \u001b[39mNone\u001b[39;00m):\n\u001b[0;32m     72\u001b[0m     experiment_checkpoint_path \u001b[39m=\u001b[39m os\u001b[39m.\u001b[39mpath\u001b[39m.\u001b[39mexpanduser(\n\u001b[0;32m     73\u001b[0m         experiment_checkpoint_path)\n\u001b[1;32m---> 75\u001b[0m     latest_checkpoint \u001b[39m=\u001b[39m \u001b[39mself\u001b[39;49m\u001b[39m.\u001b[39;49m_get_latest_checkpoint(\n\u001b[0;32m     76\u001b[0m         experiment_checkpoint_path)\n\u001b[0;32m     78\u001b[0m     \u001b[39mself\u001b[39m\u001b[39m.\u001b[39m_experiment_states \u001b[39m=\u001b[39m []\n\u001b[0;32m     79\u001b[0m     \u001b[39mfor\u001b[39;00m path \u001b[39min\u001b[39;00m latest_checkpoint:\n",
      "File \u001b[1;32mc:\\Users\\paulr\\.virtualenvs\\src-d8jxIkDS\\lib\\site-packages\\ray\\tune\\analysis\\experiment_analysis.py:144\u001b[0m, in \u001b[0;36mExperimentAnalysis._get_latest_checkpoint\u001b[1;34m(self, experiment_checkpoint_path)\u001b[0m\n\u001b[0;32m    142\u001b[0m                 latest_checkpoint\u001b[39m.\u001b[39mappend(latest_checkpoint_subdir)\n\u001b[0;32m    143\u001b[0m     \u001b[39mif\u001b[39;00m \u001b[39mnot\u001b[39;00m latest_checkpoint:\n\u001b[1;32m--> 144\u001b[0m         \u001b[39mraise\u001b[39;00m \u001b[39mValueError\u001b[39;00m(\n\u001b[0;32m    145\u001b[0m             \u001b[39mf\u001b[39m\u001b[39m\"\u001b[39m\u001b[39mThe directory `\u001b[39m\u001b[39m{\u001b[39;00mexperiment_checkpoint_path\u001b[39m}\u001b[39;00m\u001b[39m` does not \u001b[39m\u001b[39m\"\u001b[39m\n\u001b[0;32m    146\u001b[0m             \u001b[39mf\u001b[39m\u001b[39m\"\u001b[39m\u001b[39mcontain a Ray Tune experiment checkpoint.\u001b[39m\u001b[39m\"\u001b[39m)\n\u001b[0;32m    147\u001b[0m \u001b[39melif\u001b[39;00m \u001b[39mnot\u001b[39;00m os\u001b[39m.\u001b[39mpath\u001b[39m.\u001b[39misfile(experiment_checkpoint_path):\n\u001b[0;32m    148\u001b[0m     \u001b[39m# Case 2: File specified, but does not exist.\u001b[39;00m\n\u001b[0;32m    149\u001b[0m     \u001b[39mraise\u001b[39;00m \u001b[39mValueError\u001b[39;00m(\n\u001b[0;32m    150\u001b[0m         \u001b[39mf\u001b[39m\u001b[39m\"\u001b[39m\u001b[39mThe file `\u001b[39m\u001b[39m{\u001b[39;00mexperiment_checkpoint_path\u001b[39m}\u001b[39;00m\u001b[39m` does not \u001b[39m\u001b[39m\"\u001b[39m\n\u001b[0;32m    151\u001b[0m         \u001b[39mf\u001b[39m\u001b[39m\"\u001b[39m\u001b[39mexist and cannot be loaded for experiment analysis.\u001b[39m\u001b[39m\"\u001b[39m)\n",
      "\u001b[1;31mValueError\u001b[0m: The directory `D:\\aws_run_tmp\\` does not contain a Ray Tune experiment checkpoint."
     ]
    }
   ],
   "source": [
    "from ray.tune import ExperimentAnalysis\n",
    "analysis = ExperimentAnalysis('D:\\\\aws_run_tmp\\\\')"
   ]
  }
 ],
 "metadata": {
  "kernelspec": {
   "display_name": "Python 3.9.5 ('src-d8jxIkDS')",
   "language": "python",
   "name": "python3"
  },
  "language_info": {
   "codemirror_mode": {
    "name": "ipython",
    "version": 3
   },
   "file_extension": ".py",
   "mimetype": "text/x-python",
   "name": "python",
   "nbconvert_exporter": "python",
   "pygments_lexer": "ipython3",
   "version": "3.9.5"
  },
  "orig_nbformat": 4,
  "vscode": {
   "interpreter": {
    "hash": "94d09595c58a6127ea11ac74a8c8d2764be03d3da64e7fc453f56d54b16a5b17"
   }
  }
 },
 "nbformat": 4,
 "nbformat_minor": 2
}
