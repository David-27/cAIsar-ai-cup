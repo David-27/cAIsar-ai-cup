{
 "cells": [
  {
   "cell_type": "code",
   "execution_count": 2,
   "id": "942a5e53",
   "metadata": {
    "ExecuteTime": {
     "end_time": "2022-04-28T12:02:20.961800Z",
     "start_time": "2022-04-28T12:02:12.221072Z"
    }
   },
   "outputs": [],
   "source": [
    "import pickle\n",
    "from hyperopt import space_eval\n",
    "from hyperopt import hp\n",
    "import matplotlib.pyplot as plt"
   ]
  },
  {
   "cell_type": "code",
   "execution_count": 2,
   "id": "3363d9f9",
   "metadata": {
    "ExecuteTime": {
     "end_time": "2022-04-20T17:35:48.178760Z",
     "start_time": "2022-04-20T17:35:48.165619Z"
    }
   },
   "outputs": [],
   "source": [
    "space: dict = {\n",
    "            'loss': hp.choice('loss', [('dice_loss', 0), ('BinaryCrossentropy', 0), ('tversky_loss', 0.15), ('tversky_loss', 0.35), ('tversky_loss', 0.65), ('tversky_loss', 0.85)]),\n",
    "            'base_filter_count': hp.randint('base_filter_count.default', 2, 64),\n",
    "            'block_count': hp.choice('block_count', [3, 5, 7, 9, 11]),\n",
    "            'kernel_size': {'default': hp.randint('kernel_size.default', 2, 8)},\n",
    "            'dropout': {'default': hp.uniform('dropout.default', 0.0, 1.0)},\n",
    "        }"
   ]
  },
  {
   "cell_type": "code",
   "execution_count": 3,
   "id": "01abab70",
   "metadata": {
    "ExecuteTime": {
     "end_time": "2022-04-28T12:02:20.991960Z",
     "start_time": "2022-04-28T12:02:20.961800Z"
    }
   },
   "outputs": [],
   "source": [
    "with open (r'C:\\Users\\ricof\\Documents\\AI-Cup 2022\\src\\trials.pkl', 'rb') as f:\n",
    "    trials = pickle.load(f)"
   ]
  },
  {
   "cell_type": "code",
   "execution_count": 4,
   "id": "cff4ce50",
   "metadata": {
    "ExecuteTime": {
     "end_time": "2022-04-28T12:02:28.776367Z",
     "start_time": "2022-04-28T12:02:28.757813Z"
    }
   },
   "outputs": [],
   "source": [
    "val_accuracies = []\n",
    "for t in trials._dynamic_trials:\n",
    "    val_accuracies.append(((t['result'])['metrics'])['val_accuracy'])"
   ]
  },
  {
   "cell_type": "code",
   "execution_count": 8,
   "id": "1bbc489d",
   "metadata": {
    "ExecuteTime": {
     "end_time": "2022-04-20T17:39:23.453395Z",
     "start_time": "2022-04-20T17:39:23.437952Z"
    },
    "scrolled": true
   },
   "outputs": [
    {
     "data": {
      "text/plain": [
       "{'book_time': datetime.datetime(2022, 4, 15, 17, 32, 8, 534000),\n",
       " 'exp_key': None,\n",
       " 'misc': {'cmd': ('domain_attachment', 'FMinIter_Domain'),\n",
       "  'idxs': {'base_filter_count.default': (10,),\n",
       "   'block_count': (10,),\n",
       "   'dropout.default': (10,),\n",
       "   'kernel_size.default': (10,),\n",
       "   'loss': (10,)},\n",
       "  'tid': 10,\n",
       "  'vals': {'base_filter_count.default': (24,),\n",
       "   'block_count': (0,),\n",
       "   'dropout.default': (0.26995171693159836,),\n",
       "   'kernel_size.default': (4,),\n",
       "   'loss': (0,)},\n",
       "  'workdir': None},\n",
       " 'owner': None,\n",
       " 'refresh_time': datetime.datetime(2022, 4, 15, 17, 40, 50, 388000),\n",
       " 'result': {'loss': -0.9344228108723959,\n",
       "  'metrics': {'accuracy': 0.9319254557291666,\n",
       "   'auc': 0.9295401771863302,\n",
       "   'binary_crossentropy': 0.6290760040283203,\n",
       "   'dice_loss': 0.32353028655052185,\n",
       "   'loss': 0.3403850495815277,\n",
       "   'mean_absolute_error': 0.0654476856191953,\n",
       "   'precision': 0.9222801725069681,\n",
       "   'precision_at_recall': 0.9360438585281372,\n",
       "   'recall': 0.965487539768219,\n",
       "   'val_accuracy': 0.9344228108723959,\n",
       "   'val_auc': 0.9243952433268229,\n",
       "   'val_binary_crossentropy': 0.6098979314168295,\n",
       "   'val_dice_loss': 0.34819620847702026,\n",
       "   'val_loss': 0.3711421887079875,\n",
       "   'val_mean_absolute_error': 0.07067481180032094,\n",
       "   'val_precision': 0.9180212418238322,\n",
       "   'val_precision_at_recall': 0.9345877369244894,\n",
       "   'val_recall': 0.9495505094528198},\n",
       "  'status': 'ok'},\n",
       " 'spec': None,\n",
       " 'state': 2,\n",
       " 'tid': 10,\n",
       " 'version': 0}"
      ]
     },
     "execution_count": 8,
     "metadata": {},
     "output_type": "execute_result"
    }
   ],
   "source": [
    "space_eval(trials._dynamic_trials[10], space)"
   ]
  },
  {
   "cell_type": "code",
   "execution_count": 34,
   "id": "e2e14ea3",
   "metadata": {
    "ExecuteTime": {
     "end_time": "2022-04-18T07:40:31.038054Z",
     "start_time": "2022-04-18T07:40:31.033055Z"
    }
   },
   "outputs": [
    {
     "name": "stdout",
     "output_type": "stream",
     "text": [
      "{'base_filter_count.default': [45], 'block_count': [1], 'dropout.default': [0.25408126586843105], 'kernel_size.default': [7], 'loss': [4]}\n"
     ]
    }
   ],
   "source": [
    "for t in trials.trials:\n",
    "    print(t['misc']['vals'])\n",
    "    break"
   ]
  },
  {
   "cell_type": "code",
   "execution_count": 10,
   "id": "2ddd8871",
   "metadata": {
    "ExecuteTime": {
     "end_time": "2022-04-20T17:40:33.334624Z",
     "start_time": "2022-04-20T17:40:33.256046Z"
    }
   },
   "outputs": [],
   "source": [
    "base_filter_count = []\n",
    "block_count = []\n",
    "dropout = []\n",
    "kernel_size = []\n",
    "loss_type = []\n",
    "loss_beta = []\n",
    "loss = []\n",
    "\n",
    "for _, trial in enumerate(trials.trials):\n",
    "    \n",
    "    translated_eval = space_eval(space, {k: v[0] for k, v in trial['misc']['vals'].items()})\n",
    "    base_filter_count.append(translated_eval['base_filter_count'])\n",
    "    dropout.append(translated_eval['dropout']['default'])\n",
    "    kernel_size.append(translated_eval['kernel_size']['default'])\n",
    "    lt, lp = translated_eval['loss']\n",
    "    loss_type.append(lt)\n",
    "    loss_beta.append(lp)\n",
    "    base_filter_count.append(translated_eval['base_filter_count'])\n",
    "    loss.append(translated_eval['loss'])\n",
    "    "
   ]
  },
  {
   "cell_type": "code",
   "execution_count": 12,
   "id": "556be4f9",
   "metadata": {
    "ExecuteTime": {
     "end_time": "2022-04-20T17:41:05.741249Z",
     "start_time": "2022-04-20T17:41:05.733025Z"
    }
   },
   "outputs": [
    {
     "data": {
      "text/plain": [
       "{'base_filter_count': 10,\n",
       " 'block_count': 5,\n",
       " 'dropout': {'default': 0.2750209115617893},\n",
       " 'kernel_size': {'default': 4},\n",
       " 'loss': ('tversky_loss', 0.85)}"
      ]
     },
     "execution_count": 12,
     "metadata": {},
     "output_type": "execute_result"
    }
   ],
   "source": [
    "translated_eval"
   ]
  },
  {
   "cell_type": "code",
   "execution_count": 47,
   "id": "02644f34",
   "metadata": {
    "ExecuteTime": {
     "end_time": "2022-04-18T14:13:12.072645Z",
     "start_time": "2022-04-18T14:13:12.067647Z"
    }
   },
   "outputs": [],
   "source": [
    "color_dict = {\n",
    "    'tversky_loss' : 0,\n",
    "    'dice_loss' : 1, \n",
    "    'BinaryCrossentropy' : 2\n",
    "}"
   ]
  },
  {
   "cell_type": "code",
   "execution_count": 48,
   "id": "392b079e",
   "metadata": {
    "ExecuteTime": {
     "end_time": "2022-04-18T14:13:12.717181Z",
     "start_time": "2022-04-18T14:13:12.623180Z"
    }
   },
   "outputs": [
    {
     "data": {
      "text/plain": [
       "<matplotlib.collections.PathCollection at 0x17cd98a8fd0>"
      ]
     },
     "execution_count": 48,
     "metadata": {},
     "output_type": "execute_result"
    },
    {
     "data": {
      "image/png": "[encoded data removed]",
      "text/plain": [
       "<Figure size 432x288 with 1 Axes>"
      ]
     },
     "metadata": {
      "needs_background": "light"
     },
     "output_type": "display_data"
    }
   ],
   "source": [
    "plt.scatter(x=[i for i in range(len(trials.losses()))], y=trials.losses(), c=[color_dict[lt] for lt in loss_type])"
   ]
  }
 ],
 "metadata": {
  "kernelspec": {
   "display_name": "Python 3 (ipykernel)",
   "language": "python",
   "name": "python3"
  },
  "language_info": {
   "codemirror_mode": {
    "name": "ipython",
    "version": 3
   },
   "file_extension": ".py",
   "mimetype": "text/x-python",
   "name": "python",
   "nbconvert_exporter": "python",
   "pygments_lexer": "ipython3",
   "version": "3.9.0"
  }
 },
 "nbformat": 4,
 "nbformat_minor": 5
}
