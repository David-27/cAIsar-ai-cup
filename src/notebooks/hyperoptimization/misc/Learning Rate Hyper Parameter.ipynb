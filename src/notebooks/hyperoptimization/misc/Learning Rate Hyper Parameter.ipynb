{
 "cells": [
  {
   "cell_type": "code",
   "execution_count": 25,
   "metadata": {},
   "outputs": [
    {
     "name": "stdout",
     "output_type": "stream",
     "text": [
      "[(0, 0.1)]\n",
      "[(0, 0.01)]\n",
      "[(0, 0.1)]\n",
      "[(0, 0.01)]\n",
      "[(0, 0.1)]\n",
      "[(0, 0.01)]\n",
      "[(0, 0.1)]\n",
      "[(0, 0.01)]\n",
      "[(0, 0.1), (5, 0.05), (10, 0.025)]\n",
      "[(0, 0.01), (5, 0.005), (10, 0.0025)]\n",
      "[(0, 0.1), (5, 0.01), (10, 0.001)]\n",
      "[(0, 0.01), (5, 0.001), (10, 0.0001)]\n",
      "[(0, 0.1), (9, 0.05), (18, 0.025)]\n",
      "[(0, 0.01), (9, 0.005), (18, 0.0025)]\n",
      "[(0, 0.1), (9, 0.01), (18, 0.001)]\n",
      "[(0, 0.01), (9, 0.001), (18, 0.0001)]\n",
      "[(0, 0.1), (5, 0.05), (10, 0.025), (15, 0.0125)]\n",
      "[(0, 0.01), (5, 0.005), (10, 0.0025), (15, 0.00125)]\n",
      "[(0, 0.1), (5, 0.01), (10, 0.001), (15, 0.0001)]\n",
      "[(0, 0.01), (5, 0.001), (10, 0.0001), (15, 1e-05)]\n",
      "[(0, 0.1), (9, 0.05), (18, 0.025), (27, 0.0125)]\n",
      "[(0, 0.01), (9, 0.005), (18, 0.0025), (27, 0.00125)]\n",
      "[(0, 0.1), (9, 0.01), (18, 0.001), (27, 0.0001)]\n",
      "[(0, 0.01), (9, 0.001), (18, 0.0001), (27, 1e-05)]\n"
     ]
    }
   ],
   "source": [
    "import numpy as np\n",
    "\n",
    "epochs_per_step = [5,9]\n",
    "number_of_steps = [1,3,4]\n",
    "start_lrs = [0.1, 0.01]\n",
    "increases_per_step = [0.5, 0.1]\n",
    "\n",
    "def get_learning_rate(epoch_per_step, number_of_steps, increase_per_step,start_lr ):\n",
    "    return [(i * epoch_per_step, round(start_lr * pow(increase_per_step,i), ndigits=6)) for i in range(number_of_steps)]\n",
    "\n",
    "for number_of_step in number_of_steps:\n",
    "    for epoch_per_step in epochs_per_step:\n",
    "        for increase_per_step in increases_per_step:\n",
    "            for start_lr in start_lrs:\n",
    "                lr = get_learning_rate(epoch_per_step, number_of_step, increase_per_step,start_lr )\n",
    "                print(lr)\n"
   ]
  }
 ],
 "metadata": {
  "kernelspec": {
   "display_name": "Python 3.9.5 ('src-d8jxIkDS')",
   "language": "python",
   "name": "python3"
  },
  "language_info": {
   "codemirror_mode": {
    "name": "ipython",
    "version": 3
   },
   "file_extension": ".py",
   "mimetype": "text/x-python",
   "name": "python",
   "nbconvert_exporter": "python",
   "pygments_lexer": "ipython3",
   "version": "3.9.5"
  },
  "orig_nbformat": 4,
  "vscode": {
   "interpreter": {
    "hash": "94d09595c58a6127ea11ac74a8c8d2764be03d3da64e7fc453f56d54b16a5b17"
   }
  }
 },
 "nbformat": 4,
 "nbformat_minor": 2
}
