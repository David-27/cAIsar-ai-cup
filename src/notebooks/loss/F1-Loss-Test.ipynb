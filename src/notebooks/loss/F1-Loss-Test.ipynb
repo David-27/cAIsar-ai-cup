{
 "cells": [
  {
   "cell_type": "code",
   "execution_count": 1,
   "id": "81437144",
   "metadata": {
    "ExecuteTime": {
     "end_time": "2022-06-25T22:47:45.222414Z",
     "start_time": "2022-06-25T22:47:42.726565Z"
    },
    "code_folding": [],
    "init_cell": true
   },
   "outputs": [],
   "source": [
    "import tensorflow as tf\n",
    "# tf.config.set_visible_devices([], 'GPU')\n",
    "tf.config.optimizer.set_experimental_options({\n",
    "    'pin_to_host_optimization': True,\n",
    "    'layout_optimizer': True\n",
    "})\n",
    "\n",
    "import numpy as np\n",
    "from utils.util_functions import printc\n",
    "\n",
    "# samples, length, channels\n",
    "# 2, 8, 2\n",
    "\n",
    "np_pred = np.array(\n",
    "    [[[1.0, 0.0],\n",
    "     [1.0, 0.0],\n",
    "     [1.0, 0.0],\n",
    "     [0.0, 0.0],\n",
    "     [0.0, 0.0],\n",
    "     [0.0, 0.0],\n",
    "     [1.0, 1.0],\n",
    "     [1.0, 1.0]],\n",
    "    [[0.0, 1.0],\n",
    "     [0.0, 1.0],\n",
    "     [0.0, 1.0],\n",
    "     [1.0, 1.0],\n",
    "     [1.0, 1.0],\n",
    "     [1.0, 0.0],\n",
    "     [1.0, 0.0],\n",
    "     [1.0, 0.0],]])\n",
    "\n",
    "np_truth = np.array(\n",
    "    [[[1.0,  0.0],\n",
    "     [1.0, 0.0],\n",
    "     [1.0, 0.0],\n",
    "     [0.0, 0.0],\n",
    "     [0.0, 0.0],\n",
    "     [0.0, 1.0],\n",
    "     [0.0, 1.0],\n",
    "     [0.0, 1.0],],\n",
    "    [[0.0, 1.0],\n",
    "     [0.0, 1.0],\n",
    "     [0.0, 1.0],\n",
    "     [1.0, 1.0],\n",
    "     [1.0, 1.0],\n",
    "     [1.0, 0.0],\n",
    "     [1.0, 0.0],\n",
    "     [1.0, 0.0]]])"
   ]
  },
  {
   "cell_type": "code",
   "execution_count": 2,
   "id": "2c5ce0eb",
   "metadata": {
    "ExecuteTime": {
     "end_time": "2022-06-25T22:47:45.237823Z",
     "start_time": "2022-06-25T22:47:45.224445Z"
    },
    "init_cell": true
   },
   "outputs": [],
   "source": [
    "def create_test_data(samples, length, channels, changes = 2):\n",
    "    data = []\n",
    "    for _ in range(samples):\n",
    "        channel_collector = []\n",
    "        while np.sum(np.array(channel_collector)) == 0:\n",
    "            channel_collector = []\n",
    "            for _ in range(channels):\n",
    "                channel_parts = []\n",
    "                for _ in range(changes):\n",
    "                    c_part = tf.cast(tf.tile(tf.tile(tf.random.uniform((1,), 0, 2, dtype=tf.int32), (2,)), (length // (2 * changes),)), tf.float32)\n",
    "                    channel_parts.append(c_part)\n",
    "                c = np.hstack(channel_parts)\n",
    "                channel_collector.append(c)\n",
    "        sample = np.array(channel_collector).reshape((length, channels))\n",
    "        data.append(sample)\n",
    "    return tf.constant(np.array(data))"
   ]
  },
  {
   "cell_type": "code",
   "execution_count": 3,
   "id": "0c27757d",
   "metadata": {
    "ExecuteTime": {
     "end_time": "2022-06-25T22:47:47.981769Z",
     "start_time": "2022-06-25T22:47:45.237823Z"
    },
    "init_cell": true
   },
   "outputs": [
    {
     "data": {
      "text/plain": [
       "<tf.Tensor: shape=(), dtype=float32, numpy=0.6666667>"
      ]
     },
     "execution_count": 3,
     "metadata": {},
     "output_type": "execute_result"
    }
   ],
   "source": [
    "import model.loss_functions.tf_cup_f1_score as mlt\n",
    "mlt.tf_cup_f1_score(np_pred, np_truth)"
   ]
  },
  {
   "cell_type": "code",
   "execution_count": 4,
   "id": "e5fe137c",
   "metadata": {
    "ExecuteTime": {
     "end_time": "2022-06-25T22:47:48.007049Z",
     "start_time": "2022-06-25T22:47:47.985426Z"
    },
    "init_cell": true
   },
   "outputs": [
    {
     "data": {
      "text/plain": [
       "(0.6666666666666666, 0.625, 0.75)"
      ]
     },
     "execution_count": 4,
     "metadata": {},
     "output_type": "execute_result"
    }
   ],
   "source": [
    "import model.metric_functions.cup_f1_score as mmc\n",
    "mmc.cup_f1_score(np_pred, np_truth)"
   ]
  },
  {
   "cell_type": "code",
   "execution_count": null,
   "id": "7f94a339",
   "metadata": {},
   "outputs": [],
   "source": [
    "from datetime import datetime"
   ]
  },
  {
   "cell_type": "code",
   "execution_count": 5,
   "id": "6a59aa06",
   "metadata": {
    "ExecuteTime": {
     "end_time": "2022-06-25T22:55:29.131357Z",
     "start_time": "2022-06-25T22:53:56.256022Z"
    },
    "code_folding": []
   },
   "outputs": [
    {
     "name": "stdout",
     "output_type": "stream",
     "text": [
      "2022-06-26 00:53:56.267233   TF Score START. \n",
      "2022-06-26 00:53:56.740989   TF Score. \n",
      "tf.Tensor(0.0, shape=(), dtype=float32)\n",
      "2022-06-26 00:54:35.097045   TF Score. \n",
      "tf.Tensor(0.0, shape=(), dtype=float32)\n",
      "2022-06-26 00:54:35.594244   TF Score. \n",
      "tf.Tensor(0.0, shape=(), dtype=float32)\n",
      "2022-06-26 00:54:36.113915   TF Score. \n",
      "tf.Tensor(0.0, shape=(), dtype=float32)\n",
      "2022-06-26 00:54:36.597180   TF Score. \n",
      "tf.Tensor(0.0, shape=(), dtype=float32)\n",
      "2022-06-26 00:54:37.105538   TF Score. \n",
      "tf.Tensor(0.0, shape=(), dtype=float32)\n",
      "2022-06-26 00:54:37.692188   TF Score. \n",
      "tf.Tensor(0.0, shape=(), dtype=float32)\n",
      "2022-06-26 00:54:38.178652   TF Score. \n",
      "tf.Tensor(0.0, shape=(), dtype=float32)\n",
      "2022-06-26 00:54:38.680161   TF Score. \n",
      "tf.Tensor(0.0, shape=(), dtype=float32)\n",
      "2022-06-26 00:54:39.172341   TF Score. \n",
      "tf.Tensor(0.0, shape=(), dtype=float32)\n",
      "2022-06-26 00:54:39.674538   TF Score. \n",
      "tf.Tensor(0.0, shape=(), dtype=float32)\n",
      "2022-06-26 00:54:40.195190   TF Score. \n",
      "tf.Tensor(0.0, shape=(), dtype=float32)\n",
      "2022-06-26 00:54:40.698315   TF Score. \n",
      "tf.Tensor(0.0, shape=(), dtype=float32)\n",
      "2022-06-26 00:54:41.175017   TF Score. \n",
      "tf.Tensor(0.0, shape=(), dtype=float32)\n",
      "2022-06-26 00:54:41.739414   TF Score. \n",
      "tf.Tensor(0.0, shape=(), dtype=float32)\n",
      "2022-06-26 00:54:42.239659   TF Score. \n",
      "tf.Tensor(0.0, shape=(), dtype=float32)\n",
      "2022-06-26 00:54:42.737516   TF Score. \n",
      "tf.Tensor(0.0, shape=(), dtype=float32)\n",
      "2022-06-26 00:54:43.239527   TF Score. \n",
      "tf.Tensor(0.0, shape=(), dtype=float32)\n",
      "2022-06-26 00:54:43.731436   TF Score. \n",
      "tf.Tensor(0.0, shape=(), dtype=float32)\n",
      "2022-06-26 00:54:44.210651   TF Score. \n",
      "tf.Tensor(0.0, shape=(), dtype=float32)\n",
      "2022-06-26 00:54:44.639475   TF Score ENDE. \n",
      "\n",
      "\n",
      "\n",
      "2022-06-26 00:54:44.639475   TF2 Score START. \n",
      "2022-06-26 00:54:44.758608   TF2 Score. \n",
      "tf.Tensor(0.0, shape=(), dtype=float32)\n",
      "2022-06-26 00:54:46.437326   TF2 Score. \n",
      "tf.Tensor(0.0, shape=(), dtype=float32)\n",
      "2022-06-26 00:54:47.037945   TF2 Score. \n",
      "tf.Tensor(0.0, shape=(), dtype=float32)\n",
      "2022-06-26 00:54:49.247408   TF2 Score. \n",
      "tf.Tensor(0.0, shape=(), dtype=float32)\n",
      "2022-06-26 00:54:51.037154   TF2 Score. \n",
      "tf.Tensor(0.0, shape=(), dtype=float32)\n",
      "2022-06-26 00:54:53.007836   TF2 Score. \n",
      "tf.Tensor(0.0, shape=(), dtype=float32)\n",
      "2022-06-26 00:54:55.196275   TF2 Score. \n",
      "tf.Tensor(0.0, shape=(), dtype=float32)\n",
      "2022-06-26 00:54:57.425773   TF2 Score. \n",
      "tf.Tensor(0.0, shape=(), dtype=float32)\n",
      "2022-06-26 00:54:59.539508   TF2 Score. \n",
      "tf.Tensor(0.0, shape=(), dtype=float32)\n",
      "2022-06-26 00:55:01.762596   TF2 Score. \n",
      "tf.Tensor(0.0, shape=(), dtype=float32)\n",
      "2022-06-26 00:55:03.728496   TF2 Score. \n",
      "tf.Tensor(0.0, shape=(), dtype=float32)\n",
      "2022-06-26 00:55:05.659706   TF2 Score. \n",
      "tf.Tensor(0.0, shape=(), dtype=float32)\n",
      "2022-06-26 00:55:07.831672   TF2 Score. \n",
      "tf.Tensor(0.0, shape=(), dtype=float32)\n",
      "2022-06-26 00:55:09.948972   TF2 Score. \n",
      "tf.Tensor(0.0, shape=(), dtype=float32)\n",
      "2022-06-26 00:55:12.093809   TF2 Score. \n",
      "tf.Tensor(0.0, shape=(), dtype=float32)\n",
      "2022-06-26 00:55:13.792190   TF2 Score. \n",
      "tf.Tensor(0.0, shape=(), dtype=float32)\n",
      "2022-06-26 00:55:15.422658   TF2 Score. \n",
      "tf.Tensor(0.0, shape=(), dtype=float32)\n",
      "2022-06-26 00:55:17.625989   TF2 Score. \n",
      "tf.Tensor(0.0, shape=(), dtype=float32)\n",
      "2022-06-26 00:55:19.733291   TF2 Score. \n",
      "tf.Tensor(0.0, shape=(), dtype=float32)\n",
      "2022-06-26 00:55:21.728524   TF2 Score. \n",
      "tf.Tensor(0.0, shape=(), dtype=float32)\n",
      "2022-06-26 00:55:23.489182   TF2 Score ENDE. \n",
      "\n",
      "\n",
      "\n",
      "2022-06-26 00:55:23.491397   NP Score START. \n",
      "2022-06-26 00:55:23.673603   NP Score. \n",
      "(0.0, 0.0, 0.0)\n",
      "2022-06-26 00:55:23.988554   NP Score. \n",
      "(0.0, 0.0, 0.0)\n",
      "2022-06-26 00:55:24.275007   NP Score. \n",
      "(0.0, 0.0, 0.0)\n",
      "2022-06-26 00:55:24.559363   NP Score. \n",
      "(0.0, 0.0, 0.0)\n",
      "2022-06-26 00:55:24.828639   NP Score. \n",
      "(0.0, 0.0, 0.0)\n",
      "2022-06-26 00:55:25.068336   NP Score. \n",
      "(0.0, 0.0, 0.0)\n",
      "2022-06-26 00:55:25.330316   NP Score. \n",
      "(0.0, 0.0, 0.0)\n",
      "2022-06-26 00:55:25.629858   NP Score. \n",
      "(0.0, 0.0, 0.0)\n",
      "2022-06-26 00:55:25.886976   NP Score. \n",
      "(0.0, 0.0, 0.0)\n",
      "2022-06-26 00:55:26.146481   NP Score. \n",
      "(0.0, 0.0, 0.0)\n",
      "2022-06-26 00:55:26.415465   NP Score. \n",
      "(0.0, 0.0, 0.0)\n",
      "2022-06-26 00:55:26.698279   NP Score. \n",
      "(0.0, 0.0, 0.0)\n",
      "2022-06-26 00:55:26.980161   NP Score. \n",
      "(0.0, 0.0, 0.0)\n",
      "2022-06-26 00:55:27.241642   NP Score. \n",
      "(0.0, 0.0, 0.0)\n",
      "2022-06-26 00:55:27.516180   NP Score. \n",
      "(0.0, 0.0, 0.0)\n",
      "2022-06-26 00:55:27.828927   NP Score. \n",
      "(0.0, 0.0, 0.0)\n",
      "2022-06-26 00:55:28.048410   NP Score. \n",
      "(0.0, 0.0, 0.0)\n",
      "2022-06-26 00:55:28.280239   NP Score. \n",
      "(0.0, 0.0, 0.0)\n",
      "2022-06-26 00:55:28.581138   NP Score. \n",
      "(0.0, 0.0, 0.0)\n",
      "2022-06-26 00:55:28.852680   NP Score. \n",
      "(0.0, 0.0, 0.0)\n",
      "2022-06-26 00:55:29.113119   NP Score ENDE. \n"
     ]
    }
   ],
   "source": [
    "printc('TF Score START.')\n",
    "for i in range(20):\n",
    "    y_pred = tf.cast(tf.random.uniform((32, 1024, 2), 0, 2, tf.int32), tf.float32)\n",
    "    y_truth = create_test_data(32, 1024, 2)\n",
    "    \n",
    "    printc('TF Score.')\n",
    "    print(mlt.tf_cup_f1_score_map_based(y_pred, y_truth))\n",
    "printc('TF Score ENDE.')\n",
    "\n",
    "print('\\n\\n')\n",
    "\n",
    "printc('TF2 Score START.')\n",
    "for i in range(20):\n",
    "    y_pred = tf.cast(tf.random.uniform((32, 1024, 2), 0, 2, tf.int32), tf.float32)\n",
    "    y_truth = create_test_data(32, 1024, 2)\n",
    "    \n",
    "    printc('TF2 Score.')\n",
    "    print(mlt.tf_cup_f1_score(y_pred, y_truth))\n",
    "printc('TF2 Score ENDE.')\n",
    "\n",
    "print('\\n\\n')\n",
    "\n",
    "printc('NP Score START.')\n",
    "for i in range(20):\n",
    "    y_pred = tf.cast(tf.random.uniform((32, 1024, 2), 0, 2, tf.int32), tf.float32)\n",
    "    y_truth = create_test_data(32, 1024, 2)\n",
    "    \n",
    "    printc('NP Score.')\n",
    "    print(mmc.cup_f1_score(y_pred.numpy(), y_truth.numpy()))\n",
    "printc('NP Score ENDE.')"
   ]
  },
  {
   "cell_type": "code",
   "execution_count": 13,
   "id": "384c78fb",
   "metadata": {
    "ExecuteTime": {
     "end_time": "2022-06-25T22:44:18.813546Z",
     "start_time": "2022-06-25T22:44:07.335685Z"
    }
   },
   "outputs": [
    {
     "name": "stdout",
     "output_type": "stream",
     "text": [
      "2022-06-26 00:44:07.335685   TF Score START. \n",
      "2022-06-26 00:44:07.370503   TF Score. \n",
      "2022-06-26 00:32:20.608742   Function called. \n",
      "2022-06-26 00:32:28.136071   True conversion complete. \n",
      "2022-06-26 00:32:28.432491   Pred conversion complete. \n",
      "2022-06-26 00:32:28.442803   Return val calculated. \n",
      "tf.Tensor(0.0, shape=(), dtype=float32)\n",
      "2022-06-26 00:44:17.774900   TF Score. \n",
      "2022-06-26 00:32:20.608742   Function called. \n",
      "2022-06-26 00:32:28.136071   True conversion complete. \n",
      "2022-06-26 00:32:28.432491   Pred conversion complete. \n",
      "2022-06-26 00:32:28.442803   Return val calculated. \n",
      "tf.Tensor(0.0, shape=(), dtype=float32)\n",
      "2022-06-26 00:44:17.998148   TF Score. \n",
      "2022-06-26 00:32:20.608742   Function called. \n",
      "2022-06-26 00:32:28.136071   True conversion complete. \n",
      "2022-06-26 00:32:28.432491   Pred conversion complete. \n",
      "2022-06-26 00:32:28.442803   Return val calculated. \n",
      "tf.Tensor(0.0, shape=(), dtype=float32)\n",
      "2022-06-26 00:44:18.231020   TF Score. \n",
      "2022-06-26 00:32:20.608742   Function called. \n",
      "2022-06-26 00:32:28.136071   True conversion complete. \n",
      "2022-06-26 00:32:28.432491   Pred conversion complete. \n",
      "2022-06-26 00:32:28.442803   Return val calculated. \n",
      "tf.Tensor(0.0, shape=(), dtype=float32)\n",
      "2022-06-26 00:44:18.797336   TF Score ENDE. \n"
     ]
    }
   ],
   "source": [
    "with tf.device('/device:CPU:0'):\n",
    "    printc('TF Score START.')\n",
    "    for i in range(4):\n",
    "        y_pred = tf.cast(tf.random.uniform((16, 1024, 2), 0, 2, tf.int32), tf.float32)\n",
    "        y_truth = create_test_data(16, 1024, 2)\n",
    "    \n",
    "        printc('TF Score.')\n",
    "        print(mlt.tf_cup_f1_score(y_pred, y_truth))\n",
    "    printc('TF Score ENDE.')"
   ]
  },
  {
   "cell_type": "code",
   "execution_count": 5,
   "id": "d7595de9",
   "metadata": {
    "ExecuteTime": {
     "end_time": "2022-06-25T22:37:50.427363Z",
     "start_time": "2022-06-25T22:32:20.494208Z"
    }
   },
   "outputs": [
    {
     "name": "stdout",
     "output_type": "stream",
     "text": [
      "2022-06-26 00:32:20.515546   TF Score START. \n",
      "2022-06-26 00:32:20.608742   TF Score. \n",
      "2022-06-26 00:32:20.608742   Function called. \n",
      "2022-06-26 00:32:28.136071   True conversion complete. \n",
      "2022-06-26 00:32:28.432491   Pred conversion complete. \n",
      "2022-06-26 00:32:28.442803   Return val calculated. \n",
      "tf.Tensor(0.0, shape=(), dtype=float32)\n",
      "2022-06-26 00:33:12.370581   TF Score. \n",
      "2022-06-26 00:32:20.608742   Function called. \n",
      "2022-06-26 00:32:28.136071   True conversion complete. \n",
      "2022-06-26 00:32:28.432491   Pred conversion complete. \n",
      "2022-06-26 00:32:28.442803   Return val calculated. \n",
      "tf.Tensor(0.0, shape=(), dtype=float32)\n",
      "2022-06-26 00:33:40.312297   TF Score. \n",
      "2022-06-26 00:32:20.608742   Function called. \n",
      "2022-06-26 00:32:28.136071   True conversion complete. \n",
      "2022-06-26 00:32:28.432491   Pred conversion complete. \n",
      "2022-06-26 00:32:28.442803   Return val calculated. \n",
      "tf.Tensor(0.0, shape=(), dtype=float32)\n",
      "2022-06-26 00:34:12.430748   TF Score. \n",
      "2022-06-26 00:32:20.608742   Function called. \n",
      "2022-06-26 00:32:28.136071   True conversion complete. \n",
      "2022-06-26 00:32:28.432491   Pred conversion complete. \n",
      "2022-06-26 00:32:28.442803   Return val calculated. \n",
      "tf.Tensor(0.0, shape=(), dtype=float32)\n",
      "2022-06-26 00:34:39.576582   TF Score ENDE. \n",
      "\n",
      "\n",
      "\n",
      "2022-06-26 00:34:39.576582   TF2 Score START. \n",
      "2022-06-26 00:34:39.631772   TF2 Score. \n",
      "2022-06-26 00:34:39.885842   Function 2 called. \n",
      "2022-06-26 00:34:40.198392   True conversion 2 complete. \n",
      "2022-06-26 00:34:40.198392   Pred conversion 2 complete. \n",
      "2022-06-26 00:34:40.279825   Return val 2 calculated. \n",
      "tf.Tensor(0.0, shape=(), dtype=float32)\n",
      "2022-06-26 00:35:28.531271   TF2 Score. \n",
      "2022-06-26 00:34:39.885842   Function 2 called. \n",
      "2022-06-26 00:34:40.198392   True conversion 2 complete. \n",
      "2022-06-26 00:34:40.198392   Pred conversion 2 complete. \n",
      "2022-06-26 00:34:40.279825   Return val 2 calculated. \n",
      "tf.Tensor(0.0, shape=(), dtype=float32)\n",
      "2022-06-26 00:36:28.649501   TF2 Score. \n",
      "2022-06-26 00:34:39.885842   Function 2 called. \n",
      "2022-06-26 00:34:40.198392   True conversion 2 complete. \n",
      "2022-06-26 00:34:40.198392   Pred conversion 2 complete. \n",
      "2022-06-26 00:34:40.279825   Return val 2 calculated. \n",
      "tf.Tensor(0.0, shape=(), dtype=float32)\n",
      "2022-06-26 00:37:05.486202   TF2 Score. \n",
      "2022-06-26 00:34:39.885842   Function 2 called. \n",
      "2022-06-26 00:34:40.198392   True conversion 2 complete. \n",
      "2022-06-26 00:34:40.198392   Pred conversion 2 complete. \n",
      "2022-06-26 00:34:40.279825   Return val 2 calculated. \n",
      "tf.Tensor(0.0, shape=(), dtype=float32)\n",
      "2022-06-26 00:37:49.712317   TF2 Score ENDE. \n",
      "\n",
      "\n",
      "\n",
      "2022-06-26 00:37:49.713366   NP Score START. \n",
      "2022-06-26 00:37:49.833015   NP Score. \n",
      "(0.0, 0.0, 0.0)\n",
      "2022-06-26 00:37:50.040608   NP Score. \n",
      "(0.0, 0.0, 0.0)\n",
      "2022-06-26 00:37:50.208640   NP Score. \n",
      "(0.0, 0.0, 0.0)\n",
      "2022-06-26 00:37:50.365596   NP Score. \n",
      "(0.0, 0.0, 0.0)\n",
      "2022-06-26 00:37:50.423827   NP Score ENDE. \n"
     ]
    }
   ],
   "source": [
    "\n",
    "printc('TF Score START.')\n",
    "for i in range(4):\n",
    "    y_pred = tf.cast(tf.random.uniform((16, 1024, 2), 0, 2, tf.int32), tf.float32)\n",
    "    y_truth = create_test_data(16, 1024, 2)\n",
    "    \n",
    "    printc('TF Score.')\n",
    "    with tf.device\n",
    "    print(mlt.tf_cup_f1_score(y_pred, y_truth))\n",
    "printc('TF Score ENDE.')\n",
    "\n",
    "print('\\n\\n')\n",
    "\n",
    "printc('TF2 Score START.')\n",
    "for i in range(4):\n",
    "    y_pred = tf.cast(tf.random.uniform((16, 1024, 2), 0, 2, tf.int32), tf.float32)\n",
    "    y_truth = create_test_data(16, 1024, 2)\n",
    "    \n",
    "    printc('TF2 Score.')\n",
    "    print(mlt.tf_cup_f1_score2(y_pred, y_truth))\n",
    "printc('TF2 Score ENDE.')\n",
    "\n",
    "print('\\n\\n')\n",
    "\n",
    "printc('NP Score START.')\n",
    "for i in range(4):\n",
    "    y_pred = tf.cast(tf.random.uniform((16, 1024, 2), 0, 2, tf.int32), tf.float32)\n",
    "    y_truth = create_test_data(16, 1024, 2)\n",
    "    \n",
    "    printc('NP Score.')\n",
    "    print(mmc.cup_f1_score(y_pred.numpy(), y_truth.numpy()))\n",
    "printc('NP Score ENDE.')"
   ]
  },
  {
   "cell_type": "code",
   "execution_count": 107,
   "id": "4d56f424",
   "metadata": {
    "ExecuteTime": {
     "end_time": "2022-06-25T19:52:09.824872Z",
     "start_time": "2022-06-25T19:52:09.675019Z"
    }
   },
   "outputs": [
    {
     "name": "stdout",
     "output_type": "stream",
     "text": [
      "tf.Tensor(0.0, shape=(), dtype=float32)\n",
      "(0.0, 0.0, 0.0)\n"
     ]
    }
   ],
   "source": [
    "np_pred = np.array(\n",
    "    [[[0.0, 0.0],\n",
    "     [0.0, 0.0],\n",
    "     [1.0, 0.0],\n",
    "     [0.0, 0.0],\n",
    "     [0.0, 0.0],\n",
    "     [0.0, 0.0],\n",
    "     [1.0, 1.0],\n",
    "     [1.0, 1.0]],\n",
    "    [[0.0, 0.0],\n",
    "     [0.0, 0.0],\n",
    "     [0.0, 0.0],\n",
    "     [1.0, 1.0],\n",
    "     [1.0, 1.0],\n",
    "     [1.0, 0.0],\n",
    "     [1.0, 0.0],\n",
    "     [1.0, 0.0],]])\n",
    "\n",
    "np_truth = np.array(\n",
    "    [[[1.0,  0.0],\n",
    "     [0.0, 0.0],\n",
    "     [1.0, 0.0],\n",
    "     [1.0, 0.0],\n",
    "     [1.0, 0.0],\n",
    "     [1.0, 1.0],\n",
    "     [1.0, 1.0],\n",
    "     [1.0, 1.0],],\n",
    "    [[0.0, 1.0],\n",
    "     [0.0, 1.0],\n",
    "     [0.0, 1.0],\n",
    "     [1.0, 1.0],\n",
    "     [1.0, 1.0],\n",
    "     [.0, 0.0],\n",
    "     [.0, 0.0],\n",
    "     [.0, 0.0]]])\n",
    "\n",
    "print(mlt.tf_cup_f1_score(np_pred, np_truth))\n",
    "print(mmc.cup_f1_score(np_pred, np_truth))"
   ]
  },
  {
   "cell_type": "code",
   "execution_count": null,
   "id": "5719cd59",
   "metadata": {},
   "outputs": [],
   "source": []
  }
 ],
 "metadata": {
  "celltoolbar": "Initialization Cell",
  "kernelspec": {
   "display_name": "Python 3 (ipykernel)",
   "language": "python",
   "name": "python3"
  },
  "language_info": {
   "codemirror_mode": {
    "name": "ipython",
    "version": 3
   },
   "file_extension": ".py",
   "mimetype": "text/x-python",
   "name": "python",
   "nbconvert_exporter": "python",
   "pygments_lexer": "ipython3",
   "version": "3.9.0"
  }
 },
 "nbformat": 4,
 "nbformat_minor": 5
}
