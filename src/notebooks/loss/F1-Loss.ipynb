{
 "cells": [
  {
   "cell_type": "code",
   "execution_count": 2,
   "id": "81437144",
   "metadata": {
    "ExecuteTime": {
     "end_time": "2022-06-25T21:35:32.502572Z",
     "start_time": "2022-06-25T21:35:28.419084Z"
    },
    "code_folding": [
     5,
     23
    ],
    "init_cell": true
   },
   "outputs": [],
   "source": [
    "import tensorflow as tf\n",
    "import numpy as np\n",
    "\n",
    "# samples, length, channels\n",
    "\n",
    "np_pred = np.array(\n",
    "    [[[1.0, 0.0],\n",
    "     [1.0, 0.0],\n",
    "     [1.0, 0.0],\n",
    "     [0.0, 0.0],\n",
    "     [0.0, 0.0],\n",
    "     [0.0, 0.0],\n",
    "     [1.0, 1.0],\n",
    "     [1.0, 1.0]],\n",
    "    [[0.0, 1.0],\n",
    "     [0.0, 1.0],\n",
    "     [0.0, 1.0],\n",
    "     [1.0, 1.0],\n",
    "     [1.0, 1.0],\n",
    "     [1.0, 0.0],\n",
    "     [1.0, 0.0],\n",
    "     [1.0, 0.0],]])\n",
    "\n",
    "np_truth = np.array(\n",
    "    [[[1.0,  0.0],\n",
    "     [1.0, 0.0],\n",
    "     [1.0, 0.0],\n",
    "     [0.0, 0.0],\n",
    "     [0.0, 0.0],\n",
    "     [0.0, 1.0],\n",
    "     [0.0, 1.0],\n",
    "     [0.0, 1.0],],\n",
    "    [[0.0, 1.0],\n",
    "     [0.0, 1.0],\n",
    "     [0.0, 1.0],\n",
    "     [1.0, 1.0],\n",
    "     [1.0, 1.0],\n",
    "     [1.0, 0.0],\n",
    "     [1.0, 0.0],\n",
    "     [1.0, 0.0]]])"
   ]
  },
  {
   "cell_type": "code",
   "execution_count": 3,
   "id": "ca33313a",
   "metadata": {
    "ExecuteTime": {
     "end_time": "2022-06-25T21:35:34.214546Z",
     "start_time": "2022-06-25T21:35:34.162200Z"
    },
    "code_folding": [
     7
    ],
    "init_cell": true
   },
   "outputs": [],
   "source": [
    "from typing import Tuple\n",
    "import numpy as np\n",
    "from cup_scripts.metric import fscore_step_detection\n",
    "from utils.util_functions import convert_float_to_binary_mask, convert_mask_to_cup_format\n",
    "\n",
    "# original implementation f1-score\n",
    "\n",
    "def cup_f1_score(y_pred: np.array, y_true: np.array) -> Tuple[float, float, float]:\n",
    "    \"\"\"takes two arrays containg (poss. multi-channel) time series of predictions and the respective ground truth;\n",
    "    converts them from the mask to the cup format and calculates the score and metrics\n",
    "\n",
    "    Args:\n",
    "        y_pred (np.array): array of predicted masks on time-series\n",
    "        y_true (np.array): array of actual masks on time-series\n",
    "\n",
    "    Returns:\n",
    "        Tuple[float, float, float]: Tuple of mean f-score, precision, recall\n",
    "    \"\"\"\n",
    "    \n",
    "    def process_channel(mask: np.array) -> list:\n",
    "        print(f'mask: {mask}')\n",
    "        # process one mask of shape (length,)\n",
    "        binary_mask = convert_float_to_binary_mask(mask)\n",
    "        steps = convert_mask_to_cup_format(binary_mask)\n",
    "        steps = np.array(steps).tolist()\n",
    "        print(f'steps: {steps}')\n",
    "        return steps\n",
    "\n",
    "    predictions = []\n",
    "    ground_truth = []\n",
    "\n",
    "    for mask_pred, mask_truth in zip(y_pred, y_true):\n",
    "        print(f'mask_pred: {mask_pred}')\n",
    "        multi_channel: bool = (len(y_pred[0].shape) > 1)\n",
    "        channels = y_pred[0].shape[1] if multi_channel else 1\n",
    "\n",
    "        for channel in range(channels):\n",
    "            channel_pred = mask_pred[:, channel] if multi_channel else mask_pred\n",
    "            channel_truth = mask_truth[:, channel] if multi_channel else mask_truth\n",
    "            processed_pred = process_channel(mask=channel_pred)\n",
    "            processed_truth = process_channel(mask=channel_truth)\n",
    "            predictions.append(processed_pred)\n",
    "            ground_truth.append(processed_truth)\n",
    "\n",
    "    fscore, precision, recall = fscore_step_detection(y_pred=predictions, y_true=ground_truth)\n",
    "    return fscore, precision, recall"
   ]
  },
  {
   "cell_type": "code",
   "execution_count": 5,
   "id": "b8fe38ef",
   "metadata": {
    "ExecuteTime": {
     "end_time": "2022-06-25T19:39:38.572630Z",
     "start_time": "2022-06-25T19:39:38.524929Z"
    },
    "init_cell": true
   },
   "outputs": [
    {
     "name": "stdout",
     "output_type": "stream",
     "text": [
      "mask_pred: [[1. 0.]\n",
      " [1. 0.]\n",
      " [1. 0.]\n",
      " [0. 0.]\n",
      " [0. 0.]\n",
      " [0. 0.]\n",
      " [1. 1.]\n",
      " [1. 1.]]\n",
      "mask: [1. 1. 1. 0. 0. 0. 1. 1.]\n",
      "steps: [[0, 2], [6, 7]]\n",
      "mask: [1. 1. 1. 0. 0. 0. 0. 0.]\n",
      "steps: [[0, 2]]\n",
      "mask: [0. 0. 0. 0. 0. 0. 1. 1.]\n",
      "steps: [[6, 7]]\n",
      "mask: [0. 0. 0. 0. 0. 1. 1. 1.]\n",
      "steps: [[5, 7]]\n",
      "mask_pred: [[0. 1.]\n",
      " [0. 1.]\n",
      " [0. 1.]\n",
      " [1. 1.]\n",
      " [1. 1.]\n",
      " [1. 0.]\n",
      " [1. 0.]\n",
      " [1. 0.]]\n",
      "mask: [0. 0. 0. 1. 1. 1. 1. 1.]\n",
      "steps: [[3, 7]]\n",
      "mask: [0. 0. 0. 1. 1. 1. 1. 1.]\n",
      "steps: [[3, 7]]\n",
      "mask: [1. 1. 1. 1. 1. 0. 0. 0.]\n",
      "steps: [[0, 4]]\n",
      "mask: [1. 1. 1. 1. 1. 0. 0. 0.]\n",
      "steps: [[0, 4]]\n"
     ]
    },
    {
     "data": {
      "text/plain": [
       "(0.6666666666666666, 0.625, 0.75)"
      ]
     },
     "execution_count": 5,
     "metadata": {},
     "output_type": "execute_result"
    }
   ],
   "source": [
    "cup_f1_score(np_pred, np_truth)"
   ]
  },
  {
   "cell_type": "code",
   "execution_count": 6,
   "id": "f4babfb8",
   "metadata": {
    "ExecuteTime": {
     "end_time": "2022-06-25T19:39:38.591424Z",
     "start_time": "2022-06-25T19:39:38.576872Z"
    },
    "code_folding": [
     0
    ]
   },
   "outputs": [],
   "source": [
    "def tf_cup_f1_score(y_pred: np.array, y_true: np.array) -> Tuple[float, float, float]:\n",
    "    \"\"\"takes two arrays containg (poss. multi-channel) time series of predictions and the respective ground truth;\n",
    "    converts them from the mask to the cup format and calculates the score and metrics\n",
    "\n",
    "    Args:\n",
    "        y_pred (np.array): array of predicted masks on time-series\n",
    "        y_true (np.array): array of actual masks on time-series\n",
    "\n",
    "    Returns:\n",
    "        Tuple[float, float, float]: Tuple of mean f-score, precision, recall\n",
    "    \"\"\"\n",
    "    \n",
    "    def process_channel(mask: np.array) -> list:\n",
    "        print(mask)\n",
    "        # process one mask of shape (length,)\n",
    "        binary_mask = convert_float_to_binary_mask(mask)\n",
    "        steps = convert_mask_to_cup_format(binary_mask)\n",
    "        steps = np.array(steps).tolist()\n",
    "        print(steps)\n",
    "        return steps\n",
    "\n",
    "    predictions = []\n",
    "    ground_truth = []\n",
    "    \n",
    "    for mask_pred, mask_truth in zip(y_pred, y_true):\n",
    "        multi_channel: bool = (len(y_pred[0].shape) > 1)\n",
    "        channels = y_pred[0].shape[1] if multi_channel else 1\n",
    "\n",
    "        for channel in range(channels):\n",
    "            channel_pred = mask_pred[:, channel] if multi_channel else mask_pred\n",
    "            channel_truth = mask_truth[:, channel] if multi_channel else mask_truth\n",
    "            processed_pred = process_channel(mask=channel_pred)\n",
    "            processed_truth = process_channel(mask=channel_truth)\n",
    "            predictions.append(processed_pred)\n",
    "            ground_truth.append(processed_truth)\n",
    "\n",
    "    fscore, precision, recall = fscore_step_detection(y_pred=predictions, y_true=ground_truth)\n",
    "    return fscore, precision, recall"
   ]
  },
  {
   "cell_type": "code",
   "execution_count": 4,
   "id": "3f837aa8",
   "metadata": {
    "ExecuteTime": {
     "end_time": "2022-06-25T21:35:45.943480Z",
     "start_time": "2022-06-25T21:35:45.912101Z"
    },
    "code_folding": [
     8
    ]
   },
   "outputs": [],
   "source": [
    "# from utils.util_functions import shift_array\n",
    "\n",
    "def tf_convert_float_to_binary_mask(mask: tf.Tensor, threshold: float = 0.5):\n",
    "    # NOTE: the brackets need to remain to mark this operation\n",
    "    # as assignment, leading to the bool-to-float-conversion\n",
    "    # False -> 0.0, True -> 1.0 \n",
    "    return tf.where(mask >= threshold, 1.0, 0.0)\n",
    "\n",
    "def tf_shift_array(arr, num, fill=0):\n",
    "    # https://stackoverflow.com/questions/30399534/shift-elements-in-a-numpy-array#30534478\n",
    "    # cf. shift5\n",
    "    shifted = tf.roll(arr, num, 0)\n",
    "    if num > 0:\n",
    "        result = tf.concat([tf.fill([num], fill), shifted[num:]], axis=0)\n",
    "    elif num < 0:\n",
    "        result = tf.concat([shifted[:num], tf.fill([abs(num)], fill)], axis=0)\n",
    "    else:\n",
    "        result = arr\n",
    "    return result\n",
    "\n",
    "def tf_convert_mask_to_cup_format(arr: tf.Tensor) -> tf.RaggedTensor:\n",
    "    # create shifted array with orignal[n+1] = shifted[n]\n",
    "    shifted_arr = tf_shift_array(arr, -1, fill=arr[-1])\n",
    "    \n",
    "    # step_changes must differ with in value with their successor\n",
    "    # begin of step arr[n] = 0, arr[n+1] = 1\n",
    "    # -> step starts at n+1\n",
    "    # end of step arr[n] = 1, arr[n+1] = 0\n",
    "    # -> step ends at n\n",
    "    bool_arr = tf.where(arr == 1.0, True, False)\n",
    "    bool_shifted_arr = tf.where(shifted_arr == 1.0, True, False)\n",
    "    step_changes = tf.math.logical_xor(bool_arr, bool_shifted_arr)\n",
    "    \n",
    "    # create array with indices and apply boolean mask for selection\n",
    "    changes = tf.cast(tf.squeeze(tf.where(step_changes), axis=1), dtype=tf.int32)\n",
    "    # add start of first step at 0 if the prediction starts with a step\n",
    "    if bool_arr[0]:\n",
    "        changes = tf.concat([tf.constant([-1]), changes], axis=0)\n",
    "    # add end of last step at len(arr) - 1 if the prediction ends with a step\n",
    "    if bool_arr[-1]:\n",
    "        changes = tf.concat([changes, tf.constant([bool_arr.shape[0] - 1])], axis=0)\n",
    "    \n",
    "    # explanation: see comments above and *.ipynb\n",
    "    correct_starts = tf.tile(tf.constant([1, 0]), [int(tf.shape(changes)[0] / 2)])\n",
    "    changes += correct_starts\n",
    "    \n",
    "    # convert array (vector) to matrix\n",
    "    nested = tf.reshape(changes, (int(tf.shape(changes)[0] / 2), 2))\n",
    "    \n",
    "    # delete all steps of length one, i. e. start == end\n",
    "    nested = nested[~(nested[:, 0] == nested[:, 1])]\n",
    "    return nested"
   ]
  },
  {
   "cell_type": "code",
   "execution_count": 62,
   "id": "2a7b5511",
   "metadata": {
    "ExecuteTime": {
     "end_time": "2022-06-25T21:53:52.135221Z",
     "start_time": "2022-06-25T21:53:52.101759Z"
    }
   },
   "outputs": [],
   "source": [
    "from model.loss_functions.tf_cup_f1_score import tf_fscore_step_detection\n",
    "\n",
    "@tf.function\n",
    "def tf_cup_f1_score(y_pred: tf.Tensor, y_true: tf.Tensor) -> Tuple[float, float, float]:\n",
    "    def process_channel(mask: tf.Tensor) -> list:\n",
    "        binary_mask = tf_convert_float_to_binary_mask(mask)\n",
    "        steps = tf_convert_mask_to_cup_format(binary_mask)\n",
    "        return steps\n",
    "    \n",
    "    predictions = tf.ragged.constant([[[0, 0]]], dtype=tf.int32)\n",
    "    ground_truth = tf.ragged.constant([[[0, 0]]], dtype=tf.int32)\n",
    "    \n",
    "    channels = y_pred[0].shape[1]\n",
    "    for pred_index in tf.range(y_pred.shape[0]):\n",
    "        tf.autograph.experimental.set_loop_options(\n",
    "            shape_invariants=[\n",
    "                (predictions, tf.TensorShape([None, None, None])),\n",
    "                (ground_truth, tf.TensorShape([None, None, None]))]\n",
    "            )\n",
    "        \n",
    "        mask_pred = y_pred[pred_index]\n",
    "        mask_truth = y_true[pred_index]\n",
    "        \n",
    "        for channel_index in tf.range(channels):\n",
    "            tf.autograph.experimental.set_loop_options(\n",
    "            shape_invariants=[\n",
    "                (predictions, tf.TensorShape([None, None, None])),\n",
    "                (ground_truth, tf.TensorShape([None, None, None]))]\n",
    "            )\n",
    "            channel_pred = mask_pred[:, channel_index] if channels > 0 else mask_pred\n",
    "            channel_truth = mask_truth[:, channel_index] if channels > 0 else mask_truth\n",
    "            processed_pred = process_channel(mask=channel_pred)\n",
    "            processed_truth = process_channel(mask=channel_truth)\n",
    "            \n",
    "            predictions = tf.concat((predictions, [processed_pred]), 0)\n",
    "            ground_truth = tf.concat((ground_truth, [processed_truth]), 0)\n",
    "\n",
    "    # return predictions[1:], ground_truth[1:]\n",
    "    fscore = tf_fscore_step_detection(y_pred=predictions[1:], y_true=ground_truth[1:])\n",
    "    return fscore "
   ]
  },
  {
   "cell_type": "code",
   "execution_count": 63,
   "id": "6442572b",
   "metadata": {
    "ExecuteTime": {
     "end_time": "2022-06-25T21:53:55.886191Z",
     "start_time": "2022-06-25T21:53:52.888513Z"
    }
   },
   "outputs": [
    {
     "data": {
      "text/plain": [
       "<tf.Tensor: shape=(), dtype=float32, numpy=0.6666667>"
      ]
     },
     "execution_count": 63,
     "metadata": {},
     "output_type": "execute_result"
    }
   ],
   "source": [
    "tf_cup_f1_score(tf.constant(np_pred), tf.constant(np_truth))"
   ]
  },
  {
   "cell_type": "code",
   "execution_count": 58,
   "id": "02a38380",
   "metadata": {
    "ExecuteTime": {
     "end_time": "2022-06-25T21:52:18.435431Z",
     "start_time": "2022-06-25T21:52:16.042362Z"
    },
    "code_folding": [
     41
    ]
   },
   "outputs": [
    {
     "name": "stdout",
     "output_type": "stream",
     "text": [
      "(4, None, None)\n"
     ]
    },
    {
     "data": {
      "text/plain": [
       "<tf.RaggedTensor [[[0, 2],\n",
       "  [6, 7]], [[6, 7]], [[3, 7]], [[0, 4]]]>"
      ]
     },
     "execution_count": 58,
     "metadata": {},
     "output_type": "execute_result"
    }
   ],
   "source": [
    "\n",
    "@tf.function        \n",
    "def sample_function(sample):\n",
    "    # _, length, channels -> _, channels, length\n",
    "    sampleT = tf.transpose(sample)\n",
    "    steps = tf.map_fn(channel_function, sampleT, fn_output_signature=tf.RaggedTensorSpec(shape=(1, None, None), dtype=tf.int32, ragged_rank=2, row_splits_dtype=tf.int64))\n",
    "    return steps\n",
    "\n",
    "@tf.function\n",
    "def tf_process_channel(mask: tf.Tensor) -> tf.RaggedTensor:\n",
    "    binary_mask = tf_convert_float_to_binary_mask(mask)\n",
    "    steps = tf_convert_mask_to_cup_format(binary_mask)\n",
    "    return steps\n",
    "\n",
    "@tf.function\n",
    "def channel_function(channel):\n",
    "    steps = tf_process_channel(channel)\n",
    "    tensor = tf.ragged.stack(steps)\n",
    "    return tensor\n",
    "\n",
    "for i, sample in enumerate(np_pred):\n",
    "    # _, length, channels -> _, channels, length\n",
    "    sampleT = tf.transpose(sample)\n",
    "    for k, channel in enumerate(sampleT):\n",
    "        steps = tf_process_channel(channel)\n",
    "        \n",
    "# outmost loop -> iterate over samples in batch\n",
    "\n",
    "\n",
    "'''\n",
    "e = tf.ragged.constant(\n",
    "    [[[[0, 2],\n",
    "   [6, 7]], [[6, 7]]],\n",
    "     [[[3, 7]], [[0, 4]]]]\n",
    "     )\n",
    "(bs, ch, None, 2) -> (bs*ch, None, 2)\n",
    "(2, 2, None, 2) -> (4, None, 2)\n",
    "(batch_size, channels, steps je channel, step-bracket) \n",
    "'''\n",
    "\n",
    "@tf.function\n",
    "def conversion(input_tensor):\n",
    "    t = tf.map_fn(fn=sample_function, elems=input_tensor, fn_output_signature=tf.RaggedTensorSpec(shape=(2, 1, None, None), dtype=tf.int32, ragged_rank=3, row_splits_dtype=tf.int64))\n",
    "    batch_size = t.shape[0]\n",
    "    channels = t.shape[1]\n",
    "    collector = []\n",
    "    for b in range(batch_size):\n",
    "        for i in range(channels):\n",
    "            collector.append(t[b, i, :, :, :])\n",
    "    return tf.concat(collector, 0)\n",
    "\n",
    "t = conversion(np_pred)\n",
    "print(t.shape)\n",
    "t"
   ]
  },
  {
   "cell_type": "code",
   "execution_count": 9,
   "id": "38870f0d",
   "metadata": {
    "ExecuteTime": {
     "end_time": "2022-06-25T19:39:43.393520Z",
     "start_time": "2022-06-25T19:39:43.351448Z"
    },
    "code_folding": []
   },
   "outputs": [],
   "source": [
    "THRESHOLD_IoU = 0.75\n",
    "\n",
    "@tf.function\n",
    "def _check_step_list(step_list):\n",
    "    \n",
    "    def check_assertions(x):\n",
    "        assert (tf.shape(x)[0] == 2)[0], f'A step consists of a start and an end: {x}.'\n",
    "        assert x[0] < x[1]\n",
    "        return x\n",
    "    tf.map_fn(check_assertions, step_list)\n",
    "\n",
    "    '''for step in step_list:\n",
    "        assert len(step) == 2, f\"A step consists of a start and an end: {step}.\"\n",
    "        start, end = step\n",
    "        assert start < end, f\"start should be before end: {step}.\"'''\n",
    "\n",
    "@tf.function\n",
    "def tf_inter_over_union(interval_1, interval_2):\n",
    "    a = interval_1[0]\n",
    "    b = interval_1[1]\n",
    "    c = interval_2[0]\n",
    "    d = interval_2[1]\n",
    "\n",
    "    intersection = tf.math.maximum(0, tf.math.minimum(b, d) - tf.math.maximum(a, c))\n",
    "    if intersection > 0:\n",
    "        union = tf.math.maximum(b, d) - tf.math.minimum(a, c)\n",
    "    else:\n",
    "        union = (b - a) + (d - c)\n",
    "    \n",
    "    return intersection / union\n",
    "\n",
    "@tf.function\n",
    "def _tf_step_detection_precision(step_list_true, step_list_pred):\n",
    "    # NOTE: no working implementation existing\n",
    "    # _check_step_list(step_list_pred)\n",
    "    \n",
    "    if step_list_pred.shape[0] == 0:  # empty prediction\n",
    "        return 0.0\n",
    "\n",
    "    n_correctly_predicted = 0\n",
    "    detected_index_set = set()  # set of index of detected true steps\n",
    "    \n",
    "    for pred_index in tf.range(step_list_pred.nrows()):\n",
    "        step_pred = step_list_pred[pred_index]\n",
    "        for true_index in tf.range(step_list_true.nrows()):\n",
    "            step_true = step_list_true[true_index]\n",
    "            if (true_index.ref() not in detected_index_set) and (\n",
    "                tf_inter_over_union(step_pred, step_true) > THRESHOLD_IoU\n",
    "            ):\n",
    "                n_correctly_predicted += 1\n",
    "                detected_index_set.add(true_index.ref())\n",
    "                break\n",
    "                \n",
    "    return n_correctly_predicted / tf.cast(step_list_pred.nrows(), dtype=tf.int32) \n",
    "\n",
    "@tf.function\n",
    "def _tf_step_detection_recall(step_list_true, step_list_pred):\n",
    "    # NOTE: no working implementation exists\n",
    "    # _check_step_list(step_list_pred)\n",
    "\n",
    "    n_detected_true = 0\n",
    "    predicted_index_set = set()  # set of indexes of predicted steps\n",
    "    \n",
    "    for true_index in tf.range(step_list_true.nrows()):\n",
    "        step_true = step_list_true[true_index]\n",
    "        for pred_index in tf.range(step_list_pred.nrows()):\n",
    "            step_pred = step_list_pred[pred_index]\n",
    "            if (pred_index.ref() not in predicted_index_set) and (\n",
    "                tf_inter_over_union(step_pred, step_true) > THRESHOLD_IoU\n",
    "            ):\n",
    "                n_detected_true += 1\n",
    "                predicted_index_set.add(pred_index.ref())\n",
    "                break\n",
    "    recall = n_detected_true / tf.cast(step_list_true.nrows(), dtype=tf.int32)\n",
    "    return recall\n",
    "\n",
    "@tf.function(autograph=True)\n",
    "def tf_fscore_step_detection(y_true, y_pred) -> float:\n",
    "    \n",
    "    if y_true.shape[0] == 0:\n",
    "        return 0.0\n",
    "    \n",
    "    fscore_list = tf.constant((0,), dtype=tf.float32)\n",
    "    \n",
    "    for index in tf.range(y_true.nrows()):\n",
    "        tf.autograph.experimental.set_loop_options(\n",
    "            shape_invariants=[(fscore_list, tf.TensorShape([None]))]\n",
    "        )\n",
    "\n",
    "        step_list_true = y_true[index]\n",
    "        step_list_pred = y_pred[index]\n",
    "        prec = _tf_step_detection_precision(step_list_true, step_list_pred)\n",
    "        rec = _tf_step_detection_recall(step_list_true, step_list_pred)\n",
    "        if prec + rec < 1e-6:\n",
    "            fscore = tf.cast(0.0, tf.float32)\n",
    "        else:\n",
    "            fscore = tf.cast((2 * prec * rec) / (prec + rec), tf.float32)\n",
    "        fscore_list = tf.concat((fscore_list, [fscore]), 0)\n",
    "    return tf.math.reduce_mean(fscore_list[1:])"
   ]
  },
  {
   "cell_type": "code",
   "execution_count": 10,
   "id": "f61d4760",
   "metadata": {
    "ExecuteTime": {
     "end_time": "2022-06-25T19:39:44.902907Z",
     "start_time": "2022-06-25T19:39:43.398310Z"
    }
   },
   "outputs": [
    {
     "data": {
      "text/plain": [
       "<tf.Tensor: shape=(), dtype=float32, numpy=0.9166667>"
      ]
     },
     "execution_count": 10,
     "metadata": {},
     "output_type": "execute_result"
    }
   ],
   "source": [
    "y_pred = [[[0, 2]], [[6, 7]], [[3, 7]], [[0, 4]]]\n",
    "y_true = [[[0, 2],\n",
    "  [6, 7]], [[6, 7]], [[3, 7]], [[0, 4]]]\n",
    "tf_fscore_step_detection(tf.ragged.constant(y_true), tf.ragged.constant(y_pred))"
   ]
  },
  {
   "cell_type": "code",
   "execution_count": 11,
   "id": "0fc84055",
   "metadata": {
    "ExecuteTime": {
     "end_time": "2022-06-25T19:39:44.921718Z",
     "start_time": "2022-06-25T19:39:44.906480Z"
    }
   },
   "outputs": [],
   "source": [
    "def tf_fscore_step_detection(y_true: tf.Tensor, y_pred: tf.Tensor) -> float:\n",
    "    \n",
    "    if tf.shape(y_true)[0] == 0:\n",
    "        return 0\n",
    "\n",
    "    fscore_list = list()\n",
    "\n",
    "    for (step_list_true, step_list_pred) in zip(y_true, y_pred):\n",
    "        prec = _step_detection_precision(step_list_true, step_list_pred)\n",
    "        rec = _step_detection_recall(step_list_true, step_list_pred)\n",
    "        if prec + rec < 1e-6:\n",
    "            fscore_list.append(0.0)\n",
    "        else:\n",
    "            fscore_list.append((2 * prec * rec) / (prec + rec))\n",
    "\n",
    "    return np.mean(fscore_list)"
   ]
  },
  {
   "cell_type": "code",
   "execution_count": 12,
   "id": "b8382e98",
   "metadata": {
    "ExecuteTime": {
     "end_time": "2022-06-25T19:39:45.000478Z",
     "start_time": "2022-06-25T19:39:44.921718Z"
    }
   },
   "outputs": [
    {
     "data": {
      "text/plain": [
       "[<tf.Tensor: shape=(3,), dtype=int32, numpy=array([2, 3, 4])>]"
      ]
     },
     "execution_count": 12,
     "metadata": {},
     "output_type": "execute_result"
    }
   ],
   "source": [
    "@tf.function\n",
    "def myfunc(x):\n",
    "    new_list = list()\n",
    "    for s in x:\n",
    "        new_list.append(x)\n",
    "    return new_list\n",
    "\n",
    "myfunc(tf.constant([2, 3, 4]))"
   ]
  },
  {
   "cell_type": "code",
   "execution_count": 13,
   "id": "b3c6de6e",
   "metadata": {
    "ExecuteTime": {
     "end_time": "2022-06-25T19:39:45.015447Z",
     "start_time": "2022-06-25T19:39:45.004382Z"
    }
   },
   "outputs": [],
   "source": [
    "import model.metric_functions.cup_f1_score as mmc"
   ]
  },
  {
   "cell_type": "code",
   "execution_count": 14,
   "id": "eed78022",
   "metadata": {
    "ExecuteTime": {
     "end_time": "2022-06-25T19:39:45.039989Z",
     "start_time": "2022-06-25T19:39:45.017463Z"
    }
   },
   "outputs": [
    {
     "data": {
      "text/plain": [
       "(0.6666666666666666, 0.625, 0.75)"
      ]
     },
     "execution_count": 14,
     "metadata": {},
     "output_type": "execute_result"
    }
   ],
   "source": [
    "mmc.cup_f1_score(np_pred, np_truth)"
   ]
  },
  {
   "cell_type": "code",
   "execution_count": 15,
   "id": "25d77c75",
   "metadata": {
    "ExecuteTime": {
     "end_time": "2022-06-25T19:39:45.069270Z",
     "start_time": "2022-06-25T19:39:45.039989Z"
    },
    "code_folding": []
   },
   "outputs": [
    {
     "name": "stdout",
     "output_type": "stream",
     "text": [
      "[1. 1. 1. 0. 0. 0. 1. 1.]\n",
      "[[0, 2], [6, 7]]\n",
      "[1. 1. 1. 0. 0. 0. 0. 0.]\n",
      "[[0, 2]]\n",
      "[0. 0. 0. 0. 0. 0. 1. 1.]\n",
      "[[6, 7]]\n",
      "[0. 0. 0. 0. 0. 1. 1. 1.]\n",
      "[[5, 7]]\n",
      "[0. 0. 0. 1. 1. 1. 1. 1.]\n",
      "[[3, 7]]\n",
      "[0. 0. 0. 1. 1. 1. 1. 1.]\n",
      "[[3, 7]]\n",
      "[1. 1. 1. 1. 1. 0. 0. 0.]\n",
      "[[0, 4]]\n",
      "[1. 1. 1. 1. 1. 0. 0. 0.]\n",
      "[[0, 4]]\n"
     ]
    },
    {
     "data": {
      "text/plain": [
       "(0.6666666666666666, 0.625, 0.75)"
      ]
     },
     "execution_count": 15,
     "metadata": {},
     "output_type": "execute_result"
    }
   ],
   "source": [
    "tf_cup_f1_score(np_pred, np_truth)"
   ]
  },
  {
   "cell_type": "code",
   "execution_count": 16,
   "id": "02788f57",
   "metadata": {
    "ExecuteTime": {
     "end_time": "2022-06-25T19:39:54.736507Z",
     "start_time": "2022-06-25T19:39:49.633115Z"
    }
   },
   "outputs": [
    {
     "data": {
      "text/plain": [
       "<tf.Tensor: shape=(), dtype=float32, numpy=0.6666667>"
      ]
     },
     "execution_count": 16,
     "metadata": {},
     "output_type": "execute_result"
    }
   ],
   "source": [
    "import model.loss_functions.tf_cup_f1_score as mlt\n",
    "mlt.tf_cup_f1_score(np_pred, np_truth)"
   ]
  }
 ],
 "metadata": {
  "celltoolbar": "Initialization Cell",
  "kernelspec": {
   "display_name": "Python 3 (ipykernel)",
   "language": "python",
   "name": "python3"
  },
  "language_info": {
   "codemirror_mode": {
    "name": "ipython",
    "version": 3
   },
   "file_extension": ".py",
   "mimetype": "text/x-python",
   "name": "python",
   "nbconvert_exporter": "python",
   "pygments_lexer": "ipython3",
   "version": "3.9.0"
  }
 },
 "nbformat": 4,
 "nbformat_minor": 5
}
