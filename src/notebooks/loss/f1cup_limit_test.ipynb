{
 "cells": [
  {
   "cell_type": "code",
   "execution_count": 1,
   "id": "55e1d665",
   "metadata": {
    "ExecuteTime": {
     "end_time": "2022-05-08T17:27:55.972434Z",
     "start_time": "2022-05-08T17:27:55.827429Z"
    }
   },
   "outputs": [],
   "source": [
    "from cup_scripts.metric import fscore_step_detection"
   ]
  },
  {
   "cell_type": "code",
   "execution_count": 3,
   "id": "6ea3e2c6",
   "metadata": {
    "ExecuteTime": {
     "end_time": "2022-05-08T17:28:41.413694Z",
     "start_time": "2022-05-08T17:28:41.386789Z"
    }
   },
   "outputs": [],
   "source": [
    "y_true = [[[907, 989]], [[357, 431], [502, 569]], [[633, 715], [778, 849]]]\n",
    "y_pred = [[[293, 365]], [[422, 508], [565, 642]], [[701, 789]]]"
   ]
  },
  {
   "cell_type": "code",
   "execution_count": 32,
   "id": "d9b244fd",
   "metadata": {
    "ExecuteTime": {
     "end_time": "2022-05-08T17:35:24.983440Z",
     "start_time": "2022-05-08T17:35:24.925841Z"
    }
   },
   "outputs": [
    {
     "ename": "ZeroDivisionError",
     "evalue": "division by zero",
     "output_type": "error",
     "traceback": [
      "\u001b[1;31m---------------------------------------------------------------------------\u001b[0m",
      "\u001b[1;31mZeroDivisionError\u001b[0m                         Traceback (most recent call last)",
      "Input \u001b[1;32mIn [32]\u001b[0m, in \u001b[0;36m<cell line: 3>\u001b[1;34m()\u001b[0m\n\u001b[0;32m      1\u001b[0m y_pred \u001b[38;5;241m=\u001b[39m [[[\u001b[38;5;241m0\u001b[39m,\u001b[38;5;241m1\u001b[39m], [\u001b[38;5;241m11\u001b[39m, \u001b[38;5;241m13\u001b[39m]], []]\n\u001b[0;32m      2\u001b[0m y_true \u001b[38;5;241m=\u001b[39m [[[\u001b[38;5;241m0\u001b[39m, \u001b[38;5;241m10\u001b[39m]], []]\n\u001b[1;32m----> 3\u001b[0m \u001b[43mfscore_step_detection\u001b[49m\u001b[43m(\u001b[49m\u001b[43my_true\u001b[49m\u001b[43m,\u001b[49m\u001b[43m \u001b[49m\u001b[43my_pred\u001b[49m\u001b[43m)\u001b[49m\n",
      "File \u001b[1;32mc:\\users\\ricof\\documents\\ai-cup 2022\\src\\cup_scripts\\metric.py:123\u001b[0m, in \u001b[0;36mfscore_step_detection\u001b[1;34m(y_true, y_pred)\u001b[0m\n\u001b[0;32m    121\u001b[0m \u001b[38;5;28;01mfor\u001b[39;00m (step_list_true, step_list_pred) \u001b[38;5;129;01min\u001b[39;00m \u001b[38;5;28mzip\u001b[39m(y_true, y_pred):\n\u001b[0;32m    122\u001b[0m     prec \u001b[38;5;241m=\u001b[39m _step_detection_precision(step_list_true, step_list_pred)\n\u001b[1;32m--> 123\u001b[0m     rec \u001b[38;5;241m=\u001b[39m \u001b[43m_step_detection_recall\u001b[49m\u001b[43m(\u001b[49m\u001b[43mstep_list_true\u001b[49m\u001b[43m,\u001b[49m\u001b[43m \u001b[49m\u001b[43mstep_list_pred\u001b[49m\u001b[43m)\u001b[49m\n\u001b[0;32m    124\u001b[0m     \u001b[38;5;28;01mif\u001b[39;00m prec \u001b[38;5;241m+\u001b[39m rec \u001b[38;5;241m<\u001b[39m \u001b[38;5;241m1e-6\u001b[39m:\n\u001b[0;32m    125\u001b[0m         fscore_list\u001b[38;5;241m.\u001b[39mappend(\u001b[38;5;241m0.0\u001b[39m)\n",
      "File \u001b[1;32mc:\\users\\ricof\\documents\\ai-cup 2022\\src\\cup_scripts\\metric.py:95\u001b[0m, in \u001b[0;36m_step_detection_recall\u001b[1;34m(step_list_true, step_list_pred)\u001b[0m\n\u001b[0;32m     93\u001b[0m             predicted_index_set\u001b[38;5;241m.\u001b[39madd(index)\n\u001b[0;32m     94\u001b[0m             \u001b[38;5;28;01mbreak\u001b[39;00m\n\u001b[1;32m---> 95\u001b[0m \u001b[38;5;28;01mreturn\u001b[39;00m \u001b[43mn_detected_true\u001b[49m\u001b[43m \u001b[49m\u001b[38;5;241;43m/\u001b[39;49m\u001b[43m \u001b[49m\u001b[38;5;28;43mlen\u001b[39;49m\u001b[43m(\u001b[49m\u001b[43mstep_list_true\u001b[49m\u001b[43m)\u001b[49m\n",
      "\u001b[1;31mZeroDivisionError\u001b[0m: division by zero"
     ]
    }
   ],
   "source": [
    "y_pred = [[[0,1], [11, 13]], []]\n",
    "y_true = [[[0, 10]], []]\n",
    "fscore_step_detection(y_true, y_pred)"
   ]
  },
  {
   "cell_type": "code",
   "execution_count": 38,
   "id": "dae2f199",
   "metadata": {
    "ExecuteTime": {
     "end_time": "2022-05-08T17:38:34.692081Z",
     "start_time": "2022-05-08T17:38:34.668538Z"
    }
   },
   "outputs": [
    {
     "data": {
      "text/plain": [
       "0.0"
      ]
     },
     "execution_count": 38,
     "metadata": {},
     "output_type": "execute_result"
    }
   ],
   "source": [
    "y_pred = [[[0,1], [11, 13]], []]\n",
    "y_true = [[[0, 10]], [[2, 5]]]\n",
    "fscore_step_detection(y_true, y_pred)"
   ]
  },
  {
   "cell_type": "code",
   "execution_count": 30,
   "id": "010dfe9e",
   "metadata": {
    "ExecuteTime": {
     "end_time": "2022-05-08T17:35:16.911573Z",
     "start_time": "2022-05-08T17:35:16.842674Z"
    }
   },
   "outputs": [
    {
     "ename": "ZeroDivisionError",
     "evalue": "division by zero",
     "output_type": "error",
     "traceback": [
      "\u001b[1;31m---------------------------------------------------------------------------\u001b[0m",
      "\u001b[1;31mZeroDivisionError\u001b[0m                         Traceback (most recent call last)",
      "Input \u001b[1;32mIn [30]\u001b[0m, in \u001b[0;36m<cell line: 3>\u001b[1;34m()\u001b[0m\n\u001b[0;32m      1\u001b[0m y_pred \u001b[38;5;241m=\u001b[39m [[]]\n\u001b[0;32m      2\u001b[0m y_true \u001b[38;5;241m=\u001b[39m [[]]\n\u001b[1;32m----> 3\u001b[0m \u001b[43mfscore_step_detection\u001b[49m\u001b[43m(\u001b[49m\u001b[43my_true\u001b[49m\u001b[43m,\u001b[49m\u001b[43m \u001b[49m\u001b[43my_pred\u001b[49m\u001b[43m)\u001b[49m\n",
      "File \u001b[1;32mc:\\users\\ricof\\documents\\ai-cup 2022\\src\\cup_scripts\\metric.py:123\u001b[0m, in \u001b[0;36mfscore_step_detection\u001b[1;34m(y_true, y_pred)\u001b[0m\n\u001b[0;32m    121\u001b[0m \u001b[38;5;28;01mfor\u001b[39;00m (step_list_true, step_list_pred) \u001b[38;5;129;01min\u001b[39;00m \u001b[38;5;28mzip\u001b[39m(y_true, y_pred):\n\u001b[0;32m    122\u001b[0m     prec \u001b[38;5;241m=\u001b[39m _step_detection_precision(step_list_true, step_list_pred)\n\u001b[1;32m--> 123\u001b[0m     rec \u001b[38;5;241m=\u001b[39m \u001b[43m_step_detection_recall\u001b[49m\u001b[43m(\u001b[49m\u001b[43mstep_list_true\u001b[49m\u001b[43m,\u001b[49m\u001b[43m \u001b[49m\u001b[43mstep_list_pred\u001b[49m\u001b[43m)\u001b[49m\n\u001b[0;32m    124\u001b[0m     \u001b[38;5;28;01mif\u001b[39;00m prec \u001b[38;5;241m+\u001b[39m rec \u001b[38;5;241m<\u001b[39m \u001b[38;5;241m1e-6\u001b[39m:\n\u001b[0;32m    125\u001b[0m         fscore_list\u001b[38;5;241m.\u001b[39mappend(\u001b[38;5;241m0.0\u001b[39m)\n",
      "File \u001b[1;32mc:\\users\\ricof\\documents\\ai-cup 2022\\src\\cup_scripts\\metric.py:95\u001b[0m, in \u001b[0;36m_step_detection_recall\u001b[1;34m(step_list_true, step_list_pred)\u001b[0m\n\u001b[0;32m     93\u001b[0m             predicted_index_set\u001b[38;5;241m.\u001b[39madd(index)\n\u001b[0;32m     94\u001b[0m             \u001b[38;5;28;01mbreak\u001b[39;00m\n\u001b[1;32m---> 95\u001b[0m \u001b[38;5;28;01mreturn\u001b[39;00m \u001b[43mn_detected_true\u001b[49m\u001b[43m \u001b[49m\u001b[38;5;241;43m/\u001b[39;49m\u001b[43m \u001b[49m\u001b[38;5;28;43mlen\u001b[39;49m\u001b[43m(\u001b[49m\u001b[43mstep_list_true\u001b[49m\u001b[43m)\u001b[49m\n",
      "\u001b[1;31mZeroDivisionError\u001b[0m: division by zero"
     ]
    }
   ],
   "source": [
    "y_pred = [[]]\n",
    "y_true = [[]]\n",
    "fscore_step_detection(y_true, y_pred)"
   ]
  }
 ],
 "metadata": {
  "kernelspec": {
   "display_name": "Python 3 (ipykernel)",
   "language": "python",
   "name": "python3"
  },
  "language_info": {
   "codemirror_mode": {
    "name": "ipython",
    "version": 3
   },
   "file_extension": ".py",
   "mimetype": "text/x-python",
   "name": "python",
   "nbconvert_exporter": "python",
   "pygments_lexer": "ipython3",
   "version": "3.9.0"
  }
 },
 "nbformat": 4,
 "nbformat_minor": 5
}
