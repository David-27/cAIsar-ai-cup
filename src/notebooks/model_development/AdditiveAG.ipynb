{
 "cells": [
  {
   "cell_type": "code",
   "execution_count": 1,
   "id": "7c2bddd9",
   "metadata": {
    "ExecuteTime": {
     "end_time": "2022-04-26T15:26:55.619483Z",
     "start_time": "2022-04-26T15:26:51.949466Z"
    }
   },
   "outputs": [],
   "source": [
    "import tensorflow as tf"
   ]
  },
  {
   "cell_type": "code",
   "execution_count": null,
   "id": "d66e1b11",
   "metadata": {},
   "outputs": [],
   "source": [
    "skip_inputs[0] (None, 64, 64)\n",
    "test_lambda (None, 64, 128)\n",
    "attention_query (None, 16, 128)\n",
    "attention (None, 16, 128)\n",
    "skip_inputs[0] (None, 256, 32)\n",
    "test_lambda (None, 256, 64)\n",
    "attention_query (None, 64, 64)\n",
    "attention (None, 64, 64)\n",
    "skip_inputs[0] (None, 1024, 16)\n",
    "test_lambda (None, 1024, 32)\n",
    "attention_query (None, 256, 32)\n",
    "attention (None, 256, 32)"
   ]
  },
  {
   "cell_type": "code",
   "execution_count": 13,
   "id": "211bf9fc",
   "metadata": {
    "ExecuteTime": {
     "end_time": "2022-04-26T15:27:19.414669Z",
     "start_time": "2022-04-26T15:27:19.329223Z"
    }
   },
   "outputs": [],
   "source": [
    "target = tf.keras.Input(shape=[1, 64])"
   ]
  },
  {
   "cell_type": "code",
   "execution_count": 14,
   "id": "331bdb79",
   "metadata": {
    "ExecuteTime": {
     "end_time": "2022-04-26T15:27:20.119593Z",
     "start_time": "2022-04-26T15:27:20.089759Z"
    }
   },
   "outputs": [],
   "source": [
    "source = tf.keras.Input([16, 128])"
   ]
  },
  {
   "cell_type": "code",
   "execution_count": 18,
   "id": "4f65b7f0",
   "metadata": {
    "ExecuteTime": {
     "end_time": "2022-04-26T15:27:28.404471Z",
     "start_time": "2022-04-26T15:27:28.379282Z"
    }
   },
   "outputs": [],
   "source": [
    "layer = tf.keras.layers.MultiHeadAttention(num_heads=2, key_dim=45, return)"
   ]
  },
  {
   "cell_type": "code",
   "execution_count": 19,
   "id": "8fc97b9c",
   "metadata": {
    "ExecuteTime": {
     "end_time": "2022-04-26T15:27:29.069434Z",
     "start_time": "2022-04-26T15:27:29.029501Z"
    }
   },
   "outputs": [],
   "source": [
    "output = layer(target, source)"
   ]
  },
  {
   "cell_type": "code",
   "execution_count": 20,
   "id": "07088335",
   "metadata": {
    "ExecuteTime": {
     "end_time": "2022-04-26T15:27:29.574399Z",
     "start_time": "2022-04-26T15:27:29.564216Z"
    }
   },
   "outputs": [
    {
     "data": {
      "text/plain": [
       "TensorShape([None, 1, 64])"
      ]
     },
     "execution_count": 20,
     "metadata": {},
     "output_type": "execute_result"
    }
   ],
   "source": [
    "output.shape"
   ]
  }
 ],
 "metadata": {
  "kernelspec": {
   "display_name": "Python 3 (ipykernel)",
   "language": "python",
   "name": "python3"
  },
  "language_info": {
   "codemirror_mode": {
    "name": "ipython",
    "version": 3
   },
   "file_extension": ".py",
   "mimetype": "text/x-python",
   "name": "python",
   "nbconvert_exporter": "python",
   "pygments_lexer": "ipython3",
   "version": "3.9.0"
  }
 },
 "nbformat": 4,
 "nbformat_minor": 5
}
