{
 "cells": [
  {
   "cell_type": "code",
   "execution_count": 2,
   "id": "25e01b86",
   "metadata": {
    "ExecuteTime": {
     "end_time": "2022-05-23T13:38:38.847946Z",
     "start_time": "2022-05-23T13:38:38.420189Z"
    }
   },
   "outputs": [],
   "source": [
    "import numpy as np"
   ]
  },
  {
   "cell_type": "code",
   "execution_count": 11,
   "id": "291eaaf6",
   "metadata": {
    "ExecuteTime": {
     "end_time": "2022-05-23T13:45:11.656633Z",
     "start_time": "2022-05-23T13:45:11.641334Z"
    }
   },
   "outputs": [],
   "source": [
    "G = np.array([\n",
    "    [1, 3, 4, 16, 20],\n",
    "    [2, 3, 5, 17, 17],\n",
    "    [16, 16, 17, 17, 20],\n",
    "    [21, 21, 20, 20, 21]\n",
    "])\n"
   ]
  },
  {
   "cell_type": "code",
   "execution_count": 12,
   "id": "df2da2bc",
   "metadata": {
    "ExecuteTime": {
     "end_time": "2022-05-23T13:45:13.751276Z",
     "start_time": "2022-05-23T13:45:13.710329Z"
    }
   },
   "outputs": [
    {
     "data": {
      "text/plain": [
       "[0.05, 0.05, 0.1, 0.05, 0.05, 0.15, 0.2, 0.2, 0.15]"
      ]
     },
     "execution_count": 12,
     "metadata": {},
     "output_type": "execute_result"
    }
   ],
   "source": [
    "p_r = []\n",
    "for g in np.unique(G):\n",
    "    p_r.append(np.count_nonzero(G == g) / 20)\n",
    "p_r"
   ]
  },
  {
   "cell_type": "code",
   "execution_count": 13,
   "id": "1d86fa55",
   "metadata": {
    "ExecuteTime": {
     "end_time": "2022-05-23T13:45:14.633948Z",
     "start_time": "2022-05-23T13:45:14.596550Z"
    }
   },
   "outputs": [
    {
     "data": {
      "text/plain": [
       "2.946439344671015"
      ]
     },
     "execution_count": 13,
     "metadata": {},
     "output_type": "execute_result"
    }
   ],
   "source": [
    "H = 0\n",
    "for i, g in enumerate(np.unique(G)):\n",
    "    h_k = p_r[i] * np.log2(p_r[i])\n",
    "    H += h_k\n",
    "H = -H\n",
    "H"
   ]
  }
 ],
 "metadata": {
  "kernelspec": {
   "display_name": "Python 3 (ipykernel)",
   "language": "python",
   "name": "python3"
  },
  "language_info": {
   "codemirror_mode": {
    "name": "ipython",
    "version": 3
   },
   "file_extension": ".py",
   "mimetype": "text/x-python",
   "name": "python",
   "nbconvert_exporter": "python",
   "pygments_lexer": "ipython3",
   "version": "3.9.0"
  }
 },
 "nbformat": 4,
 "nbformat_minor": 5
}
