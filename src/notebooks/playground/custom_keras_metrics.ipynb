{
 "cells": [
  {
   "cell_type": "markdown",
   "metadata": {},
   "source": [
    "### Data & Imports"
   ]
  },
  {
   "cell_type": "code",
   "execution_count": 6,
   "metadata": {},
   "outputs": [],
   "source": [
    "import tensorflow as tf\n",
    "from typing import List\n",
    "from sklearn.metrics import confusion_matrix\n",
    "\n",
    "\n",
    "# data_predicted = [ 0, 0, 0,.5, 1, 1, 1, .5, 0, .5, 0]\n",
    "# data_truth     = [ 0, 0,.5, 1, 1, 1, .5, 1, .5, 0, 0]\n",
    "\n",
    "y_pred : List[float] = [[ 0, 0, 0, 1, 1],[ 0, 0, 0, 1, 1]]\n",
    "y_true : List[float] = [[ 0, 1, 0, 1, 0],[ 0, 1, 0, 1, 0]]\n"
   ]
  },
  {
   "cell_type": "markdown",
   "metadata": {},
   "source": [
    "### Using tf.keras.Metrics"
   ]
  },
  {
   "cell_type": "code",
   "execution_count": 7,
   "metadata": {},
   "outputs": [
    {
     "name": "stdout",
     "output_type": "stream",
     "text": [
      "0.6\n"
     ]
    },
    {
     "ename": "ValueError",
     "evalue": "multilabel-indicator is not supported",
     "output_type": "error",
     "traceback": [
      "\u001b[1;31m---------------------------------------------------------------------------\u001b[0m",
      "\u001b[1;31mValueError\u001b[0m                                Traceback (most recent call last)",
      "\u001b[1;32mc:\\Informatik\\workspaces\\workspace_python\\AI-Cup\\src\\notebooks\\playground\\custom_keras_metrics.ipynb Cell 4'\u001b[0m in \u001b[0;36m<cell line: 5>\u001b[1;34m()\u001b[0m\n\u001b[0;32m      <a href='vscode-notebook-cell:/c%3A/Informatik/workspaces/workspace_python/AI-Cup/src/notebooks/playground/custom_keras_metrics.ipynb#ch0000003?line=1'>2</a>\u001b[0m m\u001b[39m.\u001b[39mupdate_state(y_true, y_pred)\n\u001b[0;32m      <a href='vscode-notebook-cell:/c%3A/Informatik/workspaces/workspace_python/AI-Cup/src/notebooks/playground/custom_keras_metrics.ipynb#ch0000003?line=2'>3</a>\u001b[0m \u001b[39mprint\u001b[39m(m\u001b[39m.\u001b[39mresult()\u001b[39m.\u001b[39mnumpy())\n\u001b[1;32m----> <a href='vscode-notebook-cell:/c%3A/Informatik/workspaces/workspace_python/AI-Cup/src/notebooks/playground/custom_keras_metrics.ipynb#ch0000003?line=4'>5</a>\u001b[0m confusion_matrix(y_true, y_pred)\n",
      "File \u001b[1;32m~\\.virtualenvs\\src-d8jxIkDS\\lib\\site-packages\\sklearn\\metrics\\_classification.py:309\u001b[0m, in \u001b[0;36mconfusion_matrix\u001b[1;34m(y_true, y_pred, labels, sample_weight, normalize)\u001b[0m\n\u001b[0;32m    <a href='file:///c%3A/Users/paulr/.virtualenvs/src-d8jxIkDS/lib/site-packages/sklearn/metrics/_classification.py?line=306'>307</a>\u001b[0m y_type, y_true, y_pred \u001b[39m=\u001b[39m _check_targets(y_true, y_pred)\n\u001b[0;32m    <a href='file:///c%3A/Users/paulr/.virtualenvs/src-d8jxIkDS/lib/site-packages/sklearn/metrics/_classification.py?line=307'>308</a>\u001b[0m \u001b[39mif\u001b[39;00m y_type \u001b[39mnot\u001b[39;00m \u001b[39min\u001b[39;00m (\u001b[39m\"\u001b[39m\u001b[39mbinary\u001b[39m\u001b[39m\"\u001b[39m, \u001b[39m\"\u001b[39m\u001b[39mmulticlass\u001b[39m\u001b[39m\"\u001b[39m):\n\u001b[1;32m--> <a href='file:///c%3A/Users/paulr/.virtualenvs/src-d8jxIkDS/lib/site-packages/sklearn/metrics/_classification.py?line=308'>309</a>\u001b[0m     \u001b[39mraise\u001b[39;00m \u001b[39mValueError\u001b[39;00m(\u001b[39m\"\u001b[39m\u001b[39m%s\u001b[39;00m\u001b[39m is not supported\u001b[39m\u001b[39m\"\u001b[39m \u001b[39m%\u001b[39m y_type)\n\u001b[0;32m    <a href='file:///c%3A/Users/paulr/.virtualenvs/src-d8jxIkDS/lib/site-packages/sklearn/metrics/_classification.py?line=310'>311</a>\u001b[0m \u001b[39mif\u001b[39;00m labels \u001b[39mis\u001b[39;00m \u001b[39mNone\u001b[39;00m:\n\u001b[0;32m    <a href='file:///c%3A/Users/paulr/.virtualenvs/src-d8jxIkDS/lib/site-packages/sklearn/metrics/_classification.py?line=311'>312</a>\u001b[0m     labels \u001b[39m=\u001b[39m unique_labels(y_true, y_pred)\n",
      "\u001b[1;31mValueError\u001b[0m: multilabel-indicator is not supported"
     ]
    }
   ],
   "source": [
    "m = tf.keras.metrics.Accuracy()\n",
    "m.update_state(y_true, y_pred)\n",
    "print(m.result().numpy())\n",
    "\n",
    "confusion_matrix(y_true, y_pred)"
   ]
  },
  {
   "cell_type": "markdown",
   "metadata": {},
   "source": [
    "### Custom Metric as Function"
   ]
  },
  {
   "cell_type": "code",
   "execution_count": 4,
   "metadata": {},
   "outputs": [
    {
     "data": {
      "text/plain": [
       "0.5038172"
      ]
     },
     "execution_count": 4,
     "metadata": {},
     "output_type": "execute_result"
    }
   ],
   "source": [
    "def dice_loss(y_true: List[float], y_pred: List[float]):\n",
    "\n",
    "  y_true = list(map(float, y_true))\n",
    "  y_pred = list(map(float, y_pred))\n",
    "\n",
    "  y_true = tf.cast(y_true, tf.float32)\n",
    "  y_pred = tf.math.sigmoid(y_pred)\n",
    "  numerator = 2 * tf.reduce_sum(y_true * y_pred)\n",
    "  denominator = tf.reduce_sum(y_true + y_pred)\n",
    "\n",
    "  return 1 - numerator / denominator\n",
    "\n",
    "dice_loss(y_true,y_pred).numpy()"
   ]
  },
  {
   "cell_type": "markdown",
   "metadata": {},
   "source": [
    "### Custom Metric as Subclass (recommended)"
   ]
  },
  {
   "cell_type": "code",
   "execution_count": 5,
   "metadata": {},
   "outputs": [
    {
     "data": {
      "text/plain": [
       "0.5038172"
      ]
     },
     "execution_count": 5,
     "metadata": {},
     "output_type": "execute_result"
    }
   ],
   "source": [
    "class DiceLoss(tf.keras.metrics.Metric):\n",
    "\n",
    "    def __init__(self, name='dice_loss', **kwargs):\n",
    "        super(DiceLoss, self).__init__(name=name, **kwargs)\n",
    "        self.dice_loss = None\n",
    "\n",
    "    def update_state(self, y_true, y_pred, sample_weight=None):\n",
    "\n",
    "        y_true = list(map(float, y_true))\n",
    "        y_pred = list(map(float, y_pred))\n",
    "\n",
    "        y_true = tf.cast(y_true, tf.float32)\n",
    "        y_pred = tf.math.sigmoid(y_pred)\n",
    "        numerator = 2 * tf.reduce_sum(y_true * y_pred)\n",
    "        denominator = tf.reduce_sum(y_true + y_pred)\n",
    "\n",
    "        dice_loss = 1 - numerator / denominator\n",
    "        self.dice_loss = dice_loss\n",
    "\n",
    "    def result(self):\n",
    "        return self.dice_loss\n",
    "\n",
    "    def reset_states(self):\n",
    "        self.dice_loss = None\n",
    "\n",
    "m = DiceLoss()\n",
    "m.update_state(y_true, y_pred)\n",
    "m.result().numpy()"
   ]
  }
 ],
 "metadata": {
  "interpreter": {
   "hash": "7d52aecdc0a1f777d6e91c60a9b033f56fa5e68811beb87a2fc002e0c714d003"
  },
  "kernelspec": {
   "display_name": "Python 3.9.5 ('AI-Cup-HH1PgB5a')",
   "language": "python",
   "name": "python3"
  },
  "language_info": {
   "codemirror_mode": {
    "name": "ipython",
    "version": 3
   },
   "file_extension": ".py",
   "mimetype": "text/x-python",
   "name": "python",
   "nbconvert_exporter": "python",
   "pygments_lexer": "ipython3",
   "version": "3.9.5"
  },
  "orig_nbformat": 4
 },
 "nbformat": 4,
 "nbformat_minor": 2
}
