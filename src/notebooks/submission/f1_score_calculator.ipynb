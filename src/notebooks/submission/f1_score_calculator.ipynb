{
 "cells": [
  {
   "cell_type": "code",
   "execution_count": 1,
   "metadata": {},
   "outputs": [
    {
     "name": "stdout",
     "output_type": "stream",
     "text": [
      "0.8878799999999999\n"
     ]
    }
   ],
   "source": [
    "percentage = 0.2\n",
    "percentage_f_score = 0.29596\n",
    "\n",
    "# Annahme, dass recall = percentage * precision, auflösen von f_score nach precision\n",
    "precision = percentage_f_score * (1 + percentage) / (2 * percentage)\n",
    "\n",
    "#precision = 0.95\n",
    "#recall = (percentage_f_score / (2 * precision) ) * (0.95 * percentage + precision) \n",
    "\n",
    "#recall = recall / percentage\n",
    "#print(recall)\n",
    "\n",
    "# Annahme, dass ohne Reduktion recall und precision gleich sind\n",
    "recall = precision\n",
    "\n",
    "true_score = 2 * (precision * recall) / (precision + recall)\n",
    "\n",
    "print(true_score)\n",
    "\n",
    "# Score from 06/06/2022 22:10 Percentage: 0.2   Joined: False   Raw Score: 0.31226  Calculated Score: 0.93678\n",
    "# Score from 06/06/2022 22:10 Percentage: 0.2   Joined: True    Raw Score: 0.30208  Calculated Score: 0.90624\n",
    "# Score from 06/06/2022 22:10 Percentage: 0.2   Joined: True    Raw Score: 0.30876  Calculated Score: 0.92628\n",
    "# Score from 25/06/2022 10:44 Percentage: 0.4   Joined: True    Raw Score: 0.48684  Calculated Score: 0.8519699999999999\n",
    "# Score from 25/06/2022 10:47 Percentage: 0.45  Joined: True    Raw Score: 0.524    Calculated Score: 0.8442222222222222\n",
    "# Score from 25/06/2022 10:54 Percentage: 0.2   Joined: True    Raw Score: 0.29596  Calculated Score: 0.8878799999999999\n"
   ]
  }
 ],
 "metadata": {
  "interpreter": {
   "hash": "94d09595c58a6127ea11ac74a8c8d2764be03d3da64e7fc453f56d54b16a5b17"
  },
  "kernelspec": {
   "display_name": "Python 3.9.5 ('src-d8jxIkDS')",
   "language": "python",
   "name": "python3"
  },
  "language_info": {
   "codemirror_mode": {
    "name": "ipython",
    "version": 3
   },
   "file_extension": ".py",
   "mimetype": "text/x-python",
   "name": "python",
   "nbconvert_exporter": "python",
   "pygments_lexer": "ipython3",
   "version": "3.9.5"
  },
  "orig_nbformat": 4
 },
 "nbformat": 4,
 "nbformat_minor": 2
}
